{
 "cells": [
  {
   "cell_type": "markdown",
   "metadata": {},
   "source": [
    "# Machine Learning With Spark ML\n",
    "In this lab assignment, you will complete a project by going through the following steps:\n",
    "1. Get the data.\n",
    "2. Discover the data to gain insights.\n",
    "3. Prepare the data for Machine Learning algorithms.\n",
    "4. Select a model and train it.\n",
    "5. Fine-tune your model.\n",
    "6. Present your solution.\n",
    "\n",
    "As a dataset, we use the California Housing Prices dataset from the StatLib repository. This dataset was based on data from the 1990 California census. The dataset has the following columns\n",
    "1. `longitude`: a measure of how far west a house is (a higher value is farther west)\n",
    "2. `latitude`: a measure of how far north a house is (a higher value is farther north)\n",
    "3. `housing_,median_age`: median age of a house within a block (a lower number is a newer building)\n",
    "4. `total_rooms`: total number of rooms within a block\n",
    "5. `total_bedrooms`: total number of bedrooms within a block\n",
    "6. `population`: total number of people residing within a block\n",
    "7. `households`: total number of households, a group of people residing within a home unit, for a block\n",
    "8. `median_income`: median income for households within a block of houses\n",
    "9. `median_house_value`: median house value for households within a block\n",
    "10. `ocean_proximity`: location of the house w.r.t ocean/sea\n",
    "\n",
    "---\n",
    "# 1. Get the data\n",
    "Let's start the lab by loading the dataset. The can find the dataset at `data/housing.csv`. To infer column types automatically, when you are reading the file, you need to set `inferSchema` to true. Moreover enable the `header` option to read the columns' name from the file."
   ]
  },
  {
   "cell_type": "code",
   "execution_count": 1,
   "metadata": {},
   "outputs": [
    {
     "data": {
      "text/plain": [
       "Intitializing Scala interpreter ..."
      ]
     },
     "metadata": {},
     "output_type": "display_data"
    },
    {
     "data": {
      "text/plain": [
       "Spark Web UI available at http://LAPTOP-QRC7UDIG-di-Riccardo:4040\n",
       "SparkContext available as 'sc' (version = 2.4.4, master = local[*], app id = local-1574329269254)\n",
       "SparkSession available as 'spark'\n"
      ]
     },
     "metadata": {},
     "output_type": "display_data"
    },
    {
     "data": {
      "text/plain": [
       "housing: org.apache.spark.sql.DataFrame = [longitude: double, latitude: double ... 8 more fields]\n"
      ]
     },
     "execution_count": 1,
     "metadata": {},
     "output_type": "execute_result"
    }
   ],
   "source": [
    "val housing = spark.read.format(\"csv\").option(\"header\",\"true\").option(\"inferSchema\",\"true\").load(\"data/housing.csv\")"
   ]
  },
  {
   "cell_type": "markdown",
   "metadata": {},
   "source": [
    "---\n",
    "# 2. Discover the data to gain insights\n",
    "Now it is time to take a look at the data. In this step we are going to take a look at the data a few different ways:\n",
    "* See the schema and dimension of the dataset\n",
    "* Look at the data itself\n",
    "* Statistical summary of the attributes\n",
    "* Breakdown of the data by the categorical attribute variable\n",
    "* Find the correlation among different attributes\n",
    "* Make new attributes by combining existing attributes"
   ]
  },
  {
   "cell_type": "markdown",
   "metadata": {},
   "source": [
    "## 2.1. Schema and dimension\n",
    "Print the schema of the dataset"
   ]
  },
  {
   "cell_type": "code",
   "execution_count": 2,
   "metadata": {
    "scrolled": true
   },
   "outputs": [
    {
     "name": "stdout",
     "output_type": "stream",
     "text": [
      "root\n",
      " |-- longitude: double (nullable = true)\n",
      " |-- latitude: double (nullable = true)\n",
      " |-- housing_median_age: double (nullable = true)\n",
      " |-- total_rooms: double (nullable = true)\n",
      " |-- total_bedrooms: double (nullable = true)\n",
      " |-- population: double (nullable = true)\n",
      " |-- households: double (nullable = true)\n",
      " |-- median_income: double (nullable = true)\n",
      " |-- median_house_value: double (nullable = true)\n",
      " |-- ocean_proximity: string (nullable = true)\n",
      "\n"
     ]
    }
   ],
   "source": [
    "housing.printSchema()"
   ]
  },
  {
   "cell_type": "markdown",
   "metadata": {},
   "source": [
    "Print the number of records in the dataset."
   ]
  },
  {
   "cell_type": "code",
   "execution_count": 3,
   "metadata": {},
   "outputs": [
    {
     "data": {
      "text/plain": [
       "res1: Long = 20640\n"
      ]
     },
     "execution_count": 3,
     "metadata": {},
     "output_type": "execute_result"
    }
   ],
   "source": [
    "housing.count()"
   ]
  },
  {
   "cell_type": "markdown",
   "metadata": {},
   "source": [
    "## 2.2. Look at the data\n",
    "Print the first five records of the dataset."
   ]
  },
  {
   "cell_type": "code",
   "execution_count": 4,
   "metadata": {},
   "outputs": [
    {
     "name": "stdout",
     "output_type": "stream",
     "text": [
      "+---------+--------+------------------+-----------+--------------+----------+----------+-------------+------------------+---------------+\n",
      "|longitude|latitude|housing_median_age|total_rooms|total_bedrooms|population|households|median_income|median_house_value|ocean_proximity|\n",
      "+---------+--------+------------------+-----------+--------------+----------+----------+-------------+------------------+---------------+\n",
      "|-122.23  |37.88   |41.0              |880.0      |129.0         |322.0     |126.0     |8.3252       |452600.0          |NEAR BAY       |\n",
      "|-122.22  |37.86   |21.0              |7099.0     |1106.0        |2401.0    |1138.0    |8.3014       |358500.0          |NEAR BAY       |\n",
      "|-122.24  |37.85   |52.0              |1467.0     |190.0         |496.0     |177.0     |7.2574       |352100.0          |NEAR BAY       |\n",
      "|-122.25  |37.85   |52.0              |1274.0     |235.0         |558.0     |219.0     |5.6431       |341300.0          |NEAR BAY       |\n",
      "|-122.25  |37.85   |52.0              |1627.0     |280.0         |565.0     |259.0     |3.8462       |342200.0          |NEAR BAY       |\n",
      "+---------+--------+------------------+-----------+--------------+----------+----------+-------------+------------------+---------------+\n",
      "only showing top 5 rows\n",
      "\n"
     ]
    }
   ],
   "source": [
    "housing.select(\"*\").show(5,false)"
   ]
  },
  {
   "cell_type": "markdown",
   "metadata": {},
   "source": [
    "Print the number of records with population more than 10000."
   ]
  },
  {
   "cell_type": "code",
   "execution_count": 5,
   "metadata": {},
   "outputs": [
    {
     "name": "stdout",
     "output_type": "stream",
     "text": [
      "+---------+--------+------------------+-----------+--------------+----------+----------+-------------+------------------+---------------+\n",
      "|longitude|latitude|housing_median_age|total_rooms|total_bedrooms|population|households|median_income|median_house_value|ocean_proximity|\n",
      "+---------+--------+------------------+-----------+--------------+----------+----------+-------------+------------------+---------------+\n",
      "|  -121.92|   37.53|               7.0|    28258.0|        3864.0|   12203.0|    3701.0|       8.4045|          451100.0|      <1H OCEAN|\n",
      "|  -117.78|   34.03|               8.0|    32054.0|        5290.0|   15507.0|    5050.0|       6.0191|          253900.0|      <1H OCEAN|\n",
      "|  -117.87|   34.04|               7.0|    27700.0|        4179.0|   15037.0|    4072.0|       6.6288|          339700.0|      <1H OCEAN|\n",
      "|  -117.88|   33.96|              16.0|    19059.0|        3079.0|   10988.0|    3061.0|       5.5469|          265200.0|      <1H OCEAN|\n",
      "|  -118.78|   34.16|               9.0|    30405.0|        4093.0|   12873.0|    3931.0|       8.0137|          399200.0|     NEAR OCEAN|\n",
      "|  -118.09|   34.68|               4.0|    23386.0|        4171.0|   10493.0|    3671.0|       4.0211|          144000.0|         INLAND|\n",
      "|   -118.1|   34.57|               7.0|    20377.0|        4335.0|   11973.0|    3933.0|       3.3086|          138100.0|         INLAND|\n",
      "|  -118.46|    34.4|              12.0|    25957.0|        4798.0|   10475.0|    4490.0|        4.542|          195300.0|      <1H OCEAN|\n",
      "|  -121.61|   36.69|              19.0|     9899.0|        2617.0|   11272.0|    2528.0|       2.0244|          118500.0|      <1H OCEAN|\n",
      "|  -121.68|   36.72|              12.0|    19234.0|        4492.0|   12153.0|    4372.0|       3.2652|          152800.0|      <1H OCEAN|\n",
      "|  -121.79|   36.64|              11.0|    32627.0|        6445.0|   28566.0|    6082.0|       2.3087|          118800.0|      <1H OCEAN|\n",
      "|  -117.74|   33.89|               4.0|    37937.0|        5471.0|   16122.0|    5189.0|       7.4947|          366300.0|      <1H OCEAN|\n",
      "|  -117.12|   33.52|               4.0|    30401.0|        4957.0|   13251.0|    4339.0|       4.5841|          212300.0|      <1H OCEAN|\n",
      "|  -121.53|   38.48|               5.0|    27870.0|        5027.0|   11935.0|    4855.0|       4.8811|          212200.0|         INLAND|\n",
      "|   -121.4|   38.47|               4.0|    20982.0|        3392.0|   10329.0|    3086.0|       4.3658|          130600.0|         INLAND|\n",
      "|  -121.44|   38.43|               3.0|    39320.0|        6210.0|   16305.0|    5358.0|       4.9516|          153700.0|         INLAND|\n",
      "|  -117.75|   34.01|               4.0|    22128.0|        3522.0|   10450.0|    3258.0|       6.1287|          289600.0|      <1H OCEAN|\n",
      "|  -117.61|    34.1|               9.0|    18956.0|        4095.0|   10323.0|    3832.0|       3.6033|          132600.0|         INLAND|\n",
      "|  -116.14|   34.45|              12.0|     8796.0|        1721.0|   11139.0|    1680.0|       2.2612|          137500.0|         INLAND|\n",
      "|  -117.42|   33.35|              14.0|    25135.0|        4819.0|   35682.0|    4769.0|       2.5729|          134400.0|      <1H OCEAN|\n",
      "+---------+--------+------------------+-----------+--------------+----------+----------+-------------+------------------+---------------+\n",
      "only showing top 20 rows\n",
      "\n"
     ]
    }
   ],
   "source": [
    "housing.where(\"population > 10000\").show()"
   ]
  },
  {
   "cell_type": "markdown",
   "metadata": {},
   "source": [
    "## 2.3. Statistical summary\n",
    "Print a summary of the table statistics for the attributes `housing_median_age`, `total_rooms`, `median_house_value`, and `population`. You can use the `describe` command."
   ]
  },
  {
   "cell_type": "code",
   "execution_count": 6,
   "metadata": {},
   "outputs": [
    {
     "name": "stdout",
     "output_type": "stream",
     "text": [
      "+-------+------------------+------------------+------------------+------------------+\n",
      "|summary|housing_median_age|       total_rooms|median_house_value|        population|\n",
      "+-------+------------------+------------------+------------------+------------------+\n",
      "|  count|             20640|             20640|             20640|             20640|\n",
      "|   mean|28.639486434108527|2635.7630813953488|206855.81690891474|1425.4767441860465|\n",
      "| stddev| 12.58555761211163|2181.6152515827944|115395.61587441359|  1132.46212176534|\n",
      "|    min|               1.0|               2.0|           14999.0|               3.0|\n",
      "|    max|              52.0|           39320.0|          500001.0|           35682.0|\n",
      "+-------+------------------+------------------+------------------+------------------+\n",
      "\n"
     ]
    }
   ],
   "source": [
    "housing.describe(\"housing_median_age\", \"total_rooms\", \"median_house_value\", \"population\").show()"
   ]
  },
  {
   "cell_type": "markdown",
   "metadata": {},
   "source": [
    "Print the maximum age (`housing_median_age`), the minimum number of rooms (`total_rooms`), and the average of house values (`median_house_value`)."
   ]
  },
  {
   "cell_type": "code",
   "execution_count": 7,
   "metadata": {
    "scrolled": true
   },
   "outputs": [
    {
     "name": "stdout",
     "output_type": "stream",
     "text": [
      "+-----------------------+----------------+-----------------------+\n",
      "|max(housing_median_age)|min(total_rooms)|avg(median_house_value)|\n",
      "+-----------------------+----------------+-----------------------+\n",
      "|                   52.0|             2.0|     206855.81690891474|\n",
      "+-----------------------+----------------+-----------------------+\n",
      "\n"
     ]
    },
    {
     "data": {
      "text/plain": [
       "import org.apache.spark.sql.functions._\n"
      ]
     },
     "execution_count": 7,
     "metadata": {},
     "output_type": "execute_result"
    }
   ],
   "source": [
    "import org.apache.spark.sql.functions._\n",
    "\n",
    "housing.agg(max(\"housing_median_age\"),min(\"total_rooms\"),avg(\"median_house_value\")).show()"
   ]
  },
  {
   "cell_type": "markdown",
   "metadata": {},
   "source": [
    "## 2.4. Breakdown the data by categorical data\n",
    "Print the number of houses in different areas (`ocean_proximity`), and sort them in descending order."
   ]
  },
  {
   "cell_type": "code",
   "execution_count": 8,
   "metadata": {},
   "outputs": [
    {
     "name": "stdout",
     "output_type": "stream",
     "text": [
      "+---------------+-----+\n",
      "|ocean_proximity|count|\n",
      "+---------------+-----+\n",
      "|      <1H OCEAN| 9136|\n",
      "|         INLAND| 6551|\n",
      "|     NEAR OCEAN| 2658|\n",
      "|       NEAR BAY| 2290|\n",
      "|         ISLAND|    5|\n",
      "+---------------+-----+\n",
      "\n"
     ]
    }
   ],
   "source": [
    "housing.groupBy(\"ocean_proximity\").count().orderBy(desc(\"count\")).show()"
   ]
  },
  {
   "cell_type": "markdown",
   "metadata": {},
   "source": [
    "Print the average value of the houses (`median_house_value`) in different areas (`ocean_proximity`), and call the new column `avg_value` when print it."
   ]
  },
  {
   "cell_type": "code",
   "execution_count": 9,
   "metadata": {},
   "outputs": [
    {
     "name": "stdout",
     "output_type": "stream",
     "text": [
      "+---------------+------------------+\n",
      "|ocean_proximity|         avg_value|\n",
      "+---------------+------------------+\n",
      "|         ISLAND|          380440.0|\n",
      "|     NEAR OCEAN|249433.97742663656|\n",
      "|       NEAR BAY|259212.31179039303|\n",
      "|      <1H OCEAN|240084.28546409807|\n",
      "|         INLAND|124805.39200122119|\n",
      "+---------------+------------------+\n",
      "\n"
     ]
    }
   ],
   "source": [
    "housing.groupBy(\"ocean_proximity\").agg(avg(\"median_house_value\").as(\"avg_value\")).show()"
   ]
  },
  {
   "cell_type": "markdown",
   "metadata": {},
   "source": [
    "Rewrite the above question in SQL."
   ]
  },
  {
   "cell_type": "code",
   "execution_count": 10,
   "metadata": {},
   "outputs": [
    {
     "name": "stdout",
     "output_type": "stream",
     "text": [
      "+---------------+------------------+\n",
      "|ocean_proximity|         avg_value|\n",
      "+---------------+------------------+\n",
      "|         ISLAND|          380440.0|\n",
      "|     NEAR OCEAN|249433.97742663656|\n",
      "|       NEAR BAY|259212.31179039303|\n",
      "|      <1H OCEAN|240084.28546409807|\n",
      "|         INLAND|124805.39200122119|\n",
      "+---------------+------------------+\n",
      "\n"
     ]
    }
   ],
   "source": [
    "housing.createOrReplaceTempView(\"df\")\n",
    "spark.sql(\"SELECT ocean_proximity, AVG(median_house_value) AS avg_value FROM df GROUP BY ocean_proximity\").show()"
   ]
  },
  {
   "cell_type": "markdown",
   "metadata": {},
   "source": [
    "## 2.5. Correlation among attributes\n",
    "Print the correlation among the attributes `housing_median_age`, `total_rooms`, `median_house_value`, and `population`. To do so, first you need to put these attributes into one vector. Then, compute the standard correlation coefficient (Pearson) between every pair of attributes in this new vector. To make a vector of these attributes, you can use the `VectorAssembler` Transformer."
   ]
  },
  {
   "cell_type": "code",
   "execution_count": 11,
   "metadata": {},
   "outputs": [
    {
     "name": "stdout",
     "output_type": "stream",
     "text": [
      "+---------+--------+------------------+-----------+--------------+----------+----------+-------------+------------------+---------------+--------------------+\n",
      "|longitude|latitude|housing_median_age|total_rooms|total_bedrooms|population|households|median_income|median_house_value|ocean_proximity|       features_temp|\n",
      "+---------+--------+------------------+-----------+--------------+----------+----------+-------------+------------------+---------------+--------------------+\n",
      "|  -122.23|   37.88|              41.0|      880.0|         129.0|     322.0|     126.0|       8.3252|          452600.0|       NEAR BAY|[41.0,880.0,45260...|\n",
      "|  -122.22|   37.86|              21.0|     7099.0|        1106.0|    2401.0|    1138.0|       8.3014|          358500.0|       NEAR BAY|[21.0,7099.0,3585...|\n",
      "|  -122.24|   37.85|              52.0|     1467.0|         190.0|     496.0|     177.0|       7.2574|          352100.0|       NEAR BAY|[52.0,1467.0,3521...|\n",
      "|  -122.25|   37.85|              52.0|     1274.0|         235.0|     558.0|     219.0|       5.6431|          341300.0|       NEAR BAY|[52.0,1274.0,3413...|\n",
      "|  -122.25|   37.85|              52.0|     1627.0|         280.0|     565.0|     259.0|       3.8462|          342200.0|       NEAR BAY|[52.0,1627.0,3422...|\n",
      "+---------+--------+------------------+-----------+--------------+----------+----------+-------------+------------------+---------------+--------------------+\n",
      "only showing top 5 rows\n",
      "\n"
     ]
    },
    {
     "data": {
      "text/plain": [
       "import org.apache.spark.ml.feature.VectorAssembler\r\n",
       "va: org.apache.spark.ml.feature.VectorAssembler = vecAssembler_14d7869b9726\r\n",
       "housingAttrs: org.apache.spark.sql.DataFrame = [longitude: double, latitude: double ... 9 more fields]\n"
      ]
     },
     "execution_count": 11,
     "metadata": {},
     "output_type": "execute_result"
    }
   ],
   "source": [
    "import org.apache.spark.ml.feature.VectorAssembler\n",
    "\n",
    "val va = new VectorAssembler().setInputCols(Array(\"housing_median_age\", \"total_rooms\", \"median_house_value\",\"population\"))\n",
    "    .setOutputCol(\"features_temp\")\n",
    "\n",
    "val housingAttrs = va.transform(housing)\n",
    "housingAttrs.show(5)"
   ]
  },
  {
   "cell_type": "code",
   "execution_count": 12,
   "metadata": {},
   "outputs": [
    {
     "name": "stdout",
     "output_type": "stream",
     "text": [
      "The standard correlation coefficient:\n",
      " 1.0                   -0.36126220122231784  0.10562341249318154   -0.2962442397735293   \n",
      "-0.36126220122231784  1.0                   0.13415311380654338   0.8571259728659772    \n",
      "0.10562341249318154   0.13415311380654338   1.0                   -0.02464967888891235  \n",
      "-0.2962442397735293   0.8571259728659772    -0.02464967888891235  1.0                   \n"
     ]
    },
    {
     "data": {
      "text/plain": [
       "import org.apache.spark.ml.linalg.Matrix\r\n",
       "import org.apache.spark.ml.stat.Correlation\r\n",
       "import org.apache.spark.sql.Row\r\n",
       "coeff: org.apache.spark.ml.linalg.Matrix =\r\n",
       "1.0                   -0.36126220122231784  0.10562341249318154   -0.2962442397735293\r\n",
       "-0.36126220122231784  1.0                   0.13415311380654338   0.8571259728659772\r\n",
       "0.10562341249318154   0.13415311380654338   1.0                   -0.02464967888891235\r\n",
       "-0.2962442397735293   0.8571259728659772    -0.02464967888891235  1.0\n"
      ]
     },
     "execution_count": 12,
     "metadata": {},
     "output_type": "execute_result"
    }
   ],
   "source": [
    "import org.apache.spark.ml.linalg.Matrix\n",
    "import org.apache.spark.ml.stat.Correlation\n",
    "import org.apache.spark.sql.Row\n",
    "\n",
    "val Row(coeff: Matrix) = Correlation.corr(housingAttrs,\"features_temp\").head\n",
    "\n",
    "println(s\"The standard correlation coefficient:\\n ${coeff}\")"
   ]
  },
  {
   "cell_type": "markdown",
   "metadata": {},
   "source": [
    "## 2.6. Combine and make new attributes\n",
    "Now, let's try out various attribute combinations. In the given dataset, the total number of rooms in a block is not very useful, if we don't know how many households there are. What we really want is the number of rooms per household. Similarly, the total number of bedrooms by itself is not very useful, and we want to compare it to the number of rooms. And the population per household seems like also an interesting attribute combination to look at. To do so, add the three new columns to the dataset as below. We will call the new dataset the `housingExtra`.\n",
    "```\n",
    "rooms_per_household = total_rooms / households\n",
    "bedrooms_per_room = total_bedrooms / total_rooms\n",
    "population_per_household = population / households\n",
    "```"
   ]
  },
  {
   "cell_type": "code",
   "execution_count": 13,
   "metadata": {},
   "outputs": [
    {
     "name": "stdout",
     "output_type": "stream",
     "text": [
      "+-------------------+-------------------+------------------------+\n",
      "|rooms_per_household|  bedrooms_per_room|population_per_household|\n",
      "+-------------------+-------------------+------------------------+\n",
      "|  6.984126984126984|0.14659090909090908|      2.5555555555555554|\n",
      "|  6.238137082601054|0.15579659106916466|       2.109841827768014|\n",
      "|  8.288135593220339|0.12951601908657123|      2.8022598870056497|\n",
      "| 5.8173515981735155|0.18445839874411302|       2.547945205479452|\n",
      "|  6.281853281853282| 0.1720958819913952|      2.1814671814671813|\n",
      "+-------------------+-------------------+------------------------+\n",
      "only showing top 5 rows\n",
      "\n"
     ]
    },
    {
     "data": {
      "text/plain": [
       "housingCol1: org.apache.spark.sql.DataFrame = [longitude: double, latitude: double ... 9 more fields]\r\n",
       "housingCol2: org.apache.spark.sql.DataFrame = [longitude: double, latitude: double ... 10 more fields]\r\n",
       "housingExtra: org.apache.spark.sql.DataFrame = [longitude: double, latitude: double ... 11 more fields]\n"
      ]
     },
     "execution_count": 13,
     "metadata": {},
     "output_type": "execute_result"
    }
   ],
   "source": [
    "val housingCol1 = housing.withColumn(\"rooms_per_household\", $\"total_rooms\" / $\"households\")\n",
    "val housingCol2 = housingCol1.withColumn(\"bedrooms_per_room\", $\"total_bedrooms\" / $\"total_rooms\")\n",
    "val housingExtra = housingCol2.withColumn(\"population_per_household\",$\"population\" / $\"households\")\n",
    "\n",
    "housingExtra.select(\"rooms_per_household\", \"bedrooms_per_room\", \"population_per_household\").show(5)"
   ]
  },
  {
   "cell_type": "markdown",
   "metadata": {},
   "source": [
    "---\n",
    "## 3. Prepare the data for Machine Learning algorithms\n",
    "Before going through the Machine Learning steps, let's first rename the label column from `median_house_value` to `label`."
   ]
  },
  {
   "cell_type": "code",
   "execution_count": 14,
   "metadata": {},
   "outputs": [
    {
     "data": {
      "text/plain": [
       "renamedHousing: org.apache.spark.sql.DataFrame = [longitude: double, latitude: double ... 11 more fields]\n"
      ]
     },
     "execution_count": 14,
     "metadata": {},
     "output_type": "execute_result"
    }
   ],
   "source": [
    "val renamedHousing = housingExtra.withColumnRenamed(\"median_house_value\",\"label\")"
   ]
  },
  {
   "cell_type": "markdown",
   "metadata": {},
   "source": [
    "Now, we want to separate the numerical attributes from the categorical attribute (`ocean_proximity`) and keep their column names in two different lists. Moreover, sice we don't want to apply the same transformations to the predictors (features) and the label, we should remove the label attribute from the list of predictors. "
   ]
  },
  {
   "cell_type": "code",
   "execution_count": 15,
   "metadata": {},
   "outputs": [
    {
     "data": {
      "text/plain": [
       "colLabel: String = label\r\n",
       "colCat: String = ocean_proximity\r\n",
       "colNum: Array[String] = Array(longitude, latitude, housing_median_age, total_rooms, total_bedrooms, population, households, median_income, rooms_per_household, bedrooms_per_room, population_per_household)\n"
      ]
     },
     "execution_count": 15,
     "metadata": {},
     "output_type": "execute_result"
    }
   ],
   "source": [
    "// label columns\n",
    "val colLabel = \"label\"\n",
    "\n",
    "// categorical columns\n",
    "val colCat = \"ocean_proximity\"\n",
    "\n",
    "// numerical columns\n",
    "val colNum = renamedHousing.columns.filter(_ != colLabel).filter(_ != colCat)"
   ]
  },
  {
   "cell_type": "markdown",
   "metadata": {},
   "source": [
    "## 3.1. Prepare continuse attributes\n",
    "### Data cleaning\n",
    "Most Machine Learning algorithms cannot work with missing features, so we should take care of them. As a first step, let's find the columns with missing values in the numerical attributes. To do so, we can print the number of missing values of each continues attributes, listed in `colNum`."
   ]
  },
  {
   "cell_type": "code",
   "execution_count": 16,
   "metadata": {},
   "outputs": [
    {
     "name": "stdout",
     "output_type": "stream",
     "text": [
      "longitude 0\n",
      "latitude 0\n",
      "housing_median_age 0\n",
      "total_rooms 0\n",
      "total_bedrooms 207\n",
      "population 0\n",
      "households 0\n",
      "median_income 0\n",
      "rooms_per_household 0\n",
      "bedrooms_per_room 207\n",
      "population_per_household 0\n"
     ]
    }
   ],
   "source": [
    "for (c <- colNum) {\n",
    "    print(c + \" \")\n",
    "    println(renamedHousing.select(c).where(c+\" IS NULL\").count())\n",
    "}"
   ]
  },
  {
   "cell_type": "markdown",
   "metadata": {},
   "source": [
    "As we observerd above, the `total_bedrooms` and `bedrooms_per_room` attributes have some missing values. One way to take care of missing values is to use the `Imputer` Transformer, which completes missing values in a dataset, either using the mean or the median of the columns in which the missing values are located. To use it, you need to create an `Imputer` instance, specifying that you want to replace each attribute's missing values with the \"median\" of that attribute."
   ]
  },
  {
   "cell_type": "code",
   "execution_count": 17,
   "metadata": {},
   "outputs": [
    {
     "name": "stdout",
     "output_type": "stream",
     "text": [
      "+--------------+-------------------+\n",
      "|total_bedrooms|  bedrooms_per_room|\n",
      "+--------------+-------------------+\n",
      "|         129.0|0.14659090909090908|\n",
      "|        1106.0|0.15579659106916466|\n",
      "|         190.0|0.12951601908657123|\n",
      "|         235.0|0.18445839874411302|\n",
      "|         280.0| 0.1720958819913952|\n",
      "+--------------+-------------------+\n",
      "only showing top 5 rows\n",
      "\n",
      "+---------+--------+------------------+-----------+--------------+----------+----------+-------------+--------+---------------+-------------------+-------------------+------------------------+\n",
      "|longitude|latitude|housing_median_age|total_rooms|total_bedrooms|population|households|median_income|   label|ocean_proximity|rooms_per_household|  bedrooms_per_room|population_per_household|\n",
      "+---------+--------+------------------+-----------+--------------+----------+----------+-------------+--------+---------------+-------------------+-------------------+------------------------+\n",
      "|  -122.23|   37.88|              41.0|      880.0|         129.0|     322.0|     126.0|       8.3252|452600.0|       NEAR BAY|  6.984126984126984|0.14659090909090908|      2.5555555555555554|\n",
      "|  -122.22|   37.86|              21.0|     7099.0|        1106.0|    2401.0|    1138.0|       8.3014|358500.0|       NEAR BAY|  6.238137082601054|0.15579659106916466|       2.109841827768014|\n",
      "|  -122.24|   37.85|              52.0|     1467.0|         190.0|     496.0|     177.0|       7.2574|352100.0|       NEAR BAY|  8.288135593220339|0.12951601908657123|      2.8022598870056497|\n",
      "|  -122.25|   37.85|              52.0|     1274.0|         235.0|     558.0|     219.0|       5.6431|341300.0|       NEAR BAY| 5.8173515981735155|0.18445839874411302|       2.547945205479452|\n",
      "|  -122.25|   37.85|              52.0|     1627.0|         280.0|     565.0|     259.0|       3.8462|342200.0|       NEAR BAY|  6.281853281853282| 0.1720958819913952|      2.1814671814671813|\n",
      "+---------+--------+------------------+-----------+--------------+----------+----------+-------------+--------+---------------+-------------------+-------------------+------------------------+\n",
      "only showing top 5 rows\n",
      "\n"
     ]
    },
    {
     "data": {
      "text/plain": [
       "import org.apache.spark.ml.feature.Imputer\r\n",
       "imputer: org.apache.spark.ml.feature.Imputer = imputer_944b37b07490\r\n",
       "imputedHousing: org.apache.spark.sql.DataFrame = [longitude: double, latitude: double ... 11 more fields]\n"
      ]
     },
     "execution_count": 17,
     "metadata": {},
     "output_type": "execute_result"
    }
   ],
   "source": [
    "import org.apache.spark.ml.feature.Imputer\n",
    "\n",
    "val imputer = new Imputer().setStrategy(\"median\").setInputCols(Array(\"total_bedrooms\",\"bedrooms_per_room\")).setOutputCols(Array(\"total_bedrooms\",\"bedrooms_per_room\"))                       \n",
    "val imputedHousing = imputer.fit(renamedHousing).transform(renamedHousing)\n",
    "\n",
    "imputedHousing.select(\"total_bedrooms\", \"bedrooms_per_room\").show(5)\n",
    "imputedHousing.select(\"*\").show(5)\n"
   ]
  },
  {
   "cell_type": "markdown",
   "metadata": {},
   "source": [
    "### Scaling\n",
    "One of the most important transformations you need to apply to your data is feature scaling. With few exceptions, Machine Learning algorithms don't perform well when the input numerical attributes have very different scales. This is the case for the housing data: the total number of rooms ranges from about 6 to 39,320, while the median incomes only range from 0 to 15. Note that scaling the label attribues is generally not required.\n",
    "\n",
    "One way to get all attributes to have the same scale is to use standardization. In standardization, for each value, first it subtracts the mean value (so standardized values always have a zero mean), and then it divides by the variance so that the resulting distribution has unit variance. To do this, we can use the `StandardScaler` Estimator. To use `StandardScaler`, again we need to convert all the numerical attributes into a big vectore of features using `VectorAssembler`, and then call `StandardScaler` on that vactor."
   ]
  },
  {
   "cell_type": "code",
   "execution_count": 18,
   "metadata": {},
   "outputs": [
    {
     "name": "stdout",
     "output_type": "stream",
     "text": [
      "+---------+--------+------------------+-----------+--------------+----------+----------+-------------+--------+---------------+-------------------+-------------------+------------------------+--------------------+--------------------+\n",
      "|longitude|latitude|housing_median_age|total_rooms|total_bedrooms|population|households|median_income|   label|ocean_proximity|rooms_per_household|  bedrooms_per_room|population_per_household|       features_temp|scaled_features_temp|\n",
      "+---------+--------+------------------+-----------+--------------+----------+----------+-------------+--------+---------------+-------------------+-------------------+------------------------+--------------------+--------------------+\n",
      "|  -122.23|   37.88|              41.0|      880.0|         129.0|     322.0|     126.0|       8.3252|452600.0|       NEAR BAY|  6.984126984126984|0.14659090909090908|      2.5555555555555554|[-122.23,37.88,41...|[-61.007269596069...|\n",
      "|  -122.22|   37.86|              21.0|     7099.0|        1106.0|    2401.0|    1138.0|       8.3014|358500.0|       NEAR BAY|  6.238137082601054|0.15579659106916466|       2.109841827768014|[-122.22,37.86,21...|[-61.002278409814...|\n",
      "|  -122.24|   37.85|              52.0|     1467.0|         190.0|     496.0|     177.0|       7.2574|352100.0|       NEAR BAY|  8.288135593220339|0.12951601908657123|      2.8022598870056497|[-122.24,37.85,52...|[-61.012260782324...|\n",
      "|  -122.25|   37.85|              52.0|     1274.0|         235.0|     558.0|     219.0|       5.6431|341300.0|       NEAR BAY| 5.8173515981735155|0.18445839874411302|       2.547945205479452|[-122.25,37.85,52...|[-61.017251968579...|\n",
      "|  -122.25|   37.85|              52.0|     1627.0|         280.0|     565.0|     259.0|       3.8462|342200.0|       NEAR BAY|  6.281853281853282| 0.1720958819913952|      2.1814671814671813|[-122.25,37.85,52...|[-61.017251968579...|\n",
      "+---------+--------+------------------+-----------+--------------+----------+----------+-------------+--------+---------------+-------------------+-------------------+------------------------+--------------------+--------------------+\n",
      "only showing top 5 rows\n",
      "\n"
     ]
    },
    {
     "data": {
      "text/plain": [
       "import org.apache.spark.ml.feature.{VectorAssembler, StandardScaler}\r\n",
       "va: org.apache.spark.ml.feature.VectorAssembler = vecAssembler_55f0a5e309f4\r\n",
       "featuredHousing: org.apache.spark.sql.DataFrame = [longitude: double, latitude: double ... 12 more fields]\r\n",
       "scaler: org.apache.spark.ml.feature.StandardScaler = stdScal_b5147144cca4\r\n",
       "scaledHousing: org.apache.spark.sql.DataFrame = [longitude: double, latitude: double ... 13 more fields]\n"
      ]
     },
     "execution_count": 18,
     "metadata": {},
     "output_type": "execute_result"
    }
   ],
   "source": [
    "import org.apache.spark.ml.feature.{VectorAssembler, StandardScaler}\n",
    "\n",
    "val va = new VectorAssembler().setInputCols(Array(\"longitude\",\"latitude\",\"housing_median_age\",\"total_rooms\",\"total_bedrooms\",\"population\",\"households\",\"median_income\",\"rooms_per_household\",\"bedrooms_per_room\",\"population_per_household\"))\n",
    "    .setOutputCol(\"features_temp\")\n",
    "val featuredHousing = va.transform(imputedHousing)\n",
    "\n",
    "val scaler = new StandardScaler().setInputCol(\"features_temp\").setOutputCol(\"scaled_features_temp\").setWithStd(true)\n",
    "val scaledHousing = scaler.fit(featuredHousing).transform(featuredHousing)\n",
    "\n",
    "scaledHousing.show(5)"
   ]
  },
  {
   "cell_type": "markdown",
   "metadata": {},
   "source": [
    "## 3.2. Prepare categorical attributes\n",
    "After imputing and scaling the continuse attributes, we should take care of the categorical attributes. Let's first print the number of distict values of the categirical attribute `ocean_proximity`."
   ]
  },
  {
   "cell_type": "code",
   "execution_count": 19,
   "metadata": {},
   "outputs": [
    {
     "name": "stdout",
     "output_type": "stream",
     "text": [
      "+------------------------------+\n",
      "|count distinct ocean_proximity|\n",
      "+------------------------------+\n",
      "|                             5|\n",
      "+------------------------------+\n",
      "\n"
     ]
    }
   ],
   "source": [
    "renamedHousing.select(\"ocean_proximity\").agg(countDistinct(\"ocean_proximity\").as(\"count distinct ocean_proximity\")).show"
   ]
  },
  {
   "cell_type": "markdown",
   "metadata": {},
   "source": [
    "### String indexer\n",
    "Most Machine Learning algorithms prefer to work with numbers. So let's convert the categorical attribute `ocean_proximity` to numbers. To do so, we can use the `StringIndexer` that encodes a string column of labels to a column of label indices. The indices are in [0, numLabels), ordered by label frequencies, so the most frequent label gets index 0."
   ]
  },
  {
   "cell_type": "code",
   "execution_count": 20,
   "metadata": {},
   "outputs": [
    {
     "name": "stdout",
     "output_type": "stream",
     "text": [
      "+---------+--------+------------------+-----------+--------------+----------+----------+-------------+--------+---------------+-------------------+-------------------+------------------------+-------------------------+\n",
      "|longitude|latitude|housing_median_age|total_rooms|total_bedrooms|population|households|median_income|   label|ocean_proximity|rooms_per_household|  bedrooms_per_room|population_per_household|ocean_proximity_numerical|\n",
      "+---------+--------+------------------+-----------+--------------+----------+----------+-------------+--------+---------------+-------------------+-------------------+------------------------+-------------------------+\n",
      "|  -122.23|   37.88|              41.0|      880.0|         129.0|     322.0|     126.0|       8.3252|452600.0|       NEAR BAY|  6.984126984126984|0.14659090909090908|      2.5555555555555554|                      3.0|\n",
      "|  -122.22|   37.86|              21.0|     7099.0|        1106.0|    2401.0|    1138.0|       8.3014|358500.0|       NEAR BAY|  6.238137082601054|0.15579659106916466|       2.109841827768014|                      3.0|\n",
      "|  -122.24|   37.85|              52.0|     1467.0|         190.0|     496.0|     177.0|       7.2574|352100.0|       NEAR BAY|  8.288135593220339|0.12951601908657123|      2.8022598870056497|                      3.0|\n",
      "|  -122.25|   37.85|              52.0|     1274.0|         235.0|     558.0|     219.0|       5.6431|341300.0|       NEAR BAY| 5.8173515981735155|0.18445839874411302|       2.547945205479452|                      3.0|\n",
      "|  -122.25|   37.85|              52.0|     1627.0|         280.0|     565.0|     259.0|       3.8462|342200.0|       NEAR BAY|  6.281853281853282| 0.1720958819913952|      2.1814671814671813|                      3.0|\n",
      "+---------+--------+------------------+-----------+--------------+----------+----------+-------------+--------+---------------+-------------------+-------------------+------------------------+-------------------------+\n",
      "only showing top 5 rows\n",
      "\n"
     ]
    },
    {
     "data": {
      "text/plain": [
       "import org.apache.spark.ml.feature.StringIndexer\r\n",
       "indexer: org.apache.spark.ml.feature.StringIndexer = strIdx_19b6434fdd83\r\n",
       "idxHousing: org.apache.spark.sql.DataFrame = [longitude: double, latitude: double ... 12 more fields]\n"
      ]
     },
     "execution_count": 20,
     "metadata": {},
     "output_type": "execute_result"
    }
   ],
   "source": [
    "import org.apache.spark.ml.feature.StringIndexer\n",
    "\n",
    "val indexer = new StringIndexer().setInputCol(\"ocean_proximity\").setOutputCol(\"ocean_proximity_numerical\")\n",
    "val idxHousing = indexer.fit(renamedHousing).transform(renamedHousing)\n",
    "\n",
    "idxHousing.show(5)"
   ]
  },
  {
   "cell_type": "markdown",
   "metadata": {},
   "source": [
    "Now we can use this numerical data in any Machine Learning algorithm. You can look at the mapping that this encoder has learned using the `labels` method: \"<1H OCEAN\" is mapped to 0, \"INLAND\" is mapped to 1, etc."
   ]
  },
  {
   "cell_type": "code",
   "execution_count": 21,
   "metadata": {},
   "outputs": [
    {
     "data": {
      "text/plain": [
       "res17: Array[String] = Array(<1H OCEAN, INLAND, NEAR OCEAN, NEAR BAY, ISLAND)\n"
      ]
     },
     "execution_count": 21,
     "metadata": {},
     "output_type": "execute_result"
    }
   ],
   "source": [
    "indexer.fit(renamedHousing).labels"
   ]
  },
  {
   "cell_type": "markdown",
   "metadata": {},
   "source": [
    "### One-hot encoding\n",
    "Now, convert the label indices built in the last step into one-hot vectors. To do this, you can take advantage of the `OneHotEncoderEstimator` Estimator."
   ]
  },
  {
   "cell_type": "code",
   "execution_count": 22,
   "metadata": {},
   "outputs": [
    {
     "name": "stdout",
     "output_type": "stream",
     "text": [
      "+---------+--------+------------------+-----------+--------------+----------+----------+-------------+--------+---------------+-------------------+-------------------+------------------------+-------------------------+----------------------+\n",
      "|longitude|latitude|housing_median_age|total_rooms|total_bedrooms|population|households|median_income|   label|ocean_proximity|rooms_per_household|  bedrooms_per_room|population_per_household|ocean_proximity_numerical|ocean_proximity_onehot|\n",
      "+---------+--------+------------------+-----------+--------------+----------+----------+-------------+--------+---------------+-------------------+-------------------+------------------------+-------------------------+----------------------+\n",
      "|  -122.23|   37.88|              41.0|      880.0|         129.0|     322.0|     126.0|       8.3252|452600.0|       NEAR BAY|  6.984126984126984|0.14659090909090908|      2.5555555555555554|                      3.0|         (4,[3],[1.0])|\n",
      "|  -122.22|   37.86|              21.0|     7099.0|        1106.0|    2401.0|    1138.0|       8.3014|358500.0|       NEAR BAY|  6.238137082601054|0.15579659106916466|       2.109841827768014|                      3.0|         (4,[3],[1.0])|\n",
      "|  -122.24|   37.85|              52.0|     1467.0|         190.0|     496.0|     177.0|       7.2574|352100.0|       NEAR BAY|  8.288135593220339|0.12951601908657123|      2.8022598870056497|                      3.0|         (4,[3],[1.0])|\n",
      "|  -122.25|   37.85|              52.0|     1274.0|         235.0|     558.0|     219.0|       5.6431|341300.0|       NEAR BAY| 5.8173515981735155|0.18445839874411302|       2.547945205479452|                      3.0|         (4,[3],[1.0])|\n",
      "|  -122.25|   37.85|              52.0|     1627.0|         280.0|     565.0|     259.0|       3.8462|342200.0|       NEAR BAY|  6.281853281853282| 0.1720958819913952|      2.1814671814671813|                      3.0|         (4,[3],[1.0])|\n",
      "+---------+--------+------------------+-----------+--------------+----------+----------+-------------+--------+---------------+-------------------+-------------------+------------------------+-------------------------+----------------------+\n",
      "only showing top 5 rows\n",
      "\n"
     ]
    },
    {
     "data": {
      "text/plain": [
       "import org.apache.spark.ml.feature.OneHotEncoderEstimator\r\n",
       "encoder: org.apache.spark.ml.feature.OneHotEncoderEstimator = oneHotEncoder_b4779ca11c2b\r\n",
       "ohHousing: org.apache.spark.sql.DataFrame = [longitude: double, latitude: double ... 13 more fields]\n"
      ]
     },
     "execution_count": 22,
     "metadata": {},
     "output_type": "execute_result"
    }
   ],
   "source": [
    "import org.apache.spark.ml.feature.OneHotEncoderEstimator\n",
    "\n",
    "val encoder = new OneHotEncoderEstimator().setInputCols(Array(\"ocean_proximity_numerical\")).setOutputCols(Array(\"ocean_proximity_onehot\"))\n",
    "val ohHousing = encoder.fit(idxHousing).transform(idxHousing)\n",
    "\n",
    "ohHousing.show(5)"
   ]
  },
  {
   "cell_type": "markdown",
   "metadata": {},
   "source": [
    "---\n",
    "# 4. Pipeline\n",
    "As you can see, there are many data transformation steps that need to be executed in the right order. For example, you called the `Imputer`, `VectorAssembler`, and `StandardScaler` from left to right. However, we can use the `Pipeline` class to define a sequence of Transformers/Estimators, and run them in order. A `Pipeline` is an `Estimator`, thus, after a Pipeline's `fit()` method runs, it produces a `PipelineModel`, which is a `Transformer`.\n",
    "\n",
    "Now, let's create a pipeline called `numPipeline` to call the numerical transformers you built above (`imputer`, `va`, and `scaler`) in the right order from left to right, as well as a pipeline called `catPipeline` to call the categorical transformers (`indexer` and `encoder`). Then, put these two pipelines `numPipeline` and `catPipeline` into one pipeline."
   ]
  },
  {
   "cell_type": "code",
   "execution_count": 23,
   "metadata": {},
   "outputs": [
    {
     "name": "stdout",
     "output_type": "stream",
     "text": [
      "+---------+--------+------------------+-----------+--------------+----------+----------+-------------+--------+---------------+-------------------+-------------------+------------------------+--------------------+--------------------+-------------------------+----------------------+\n",
      "|longitude|latitude|housing_median_age|total_rooms|total_bedrooms|population|households|median_income|   label|ocean_proximity|rooms_per_household|  bedrooms_per_room|population_per_household|       features_temp|scaled_features_temp|ocean_proximity_numerical|ocean_proximity_onehot|\n",
      "+---------+--------+------------------+-----------+--------------+----------+----------+-------------+--------+---------------+-------------------+-------------------+------------------------+--------------------+--------------------+-------------------------+----------------------+\n",
      "|  -122.23|   37.88|              41.0|      880.0|         129.0|     322.0|     126.0|       8.3252|452600.0|       NEAR BAY|  6.984126984126984|0.14659090909090908|      2.5555555555555554|[-122.23,37.88,41...|[-61.007269596069...|                      3.0|         (4,[3],[1.0])|\n",
      "|  -122.22|   37.86|              21.0|     7099.0|        1106.0|    2401.0|    1138.0|       8.3014|358500.0|       NEAR BAY|  6.238137082601054|0.15579659106916466|       2.109841827768014|[-122.22,37.86,21...|[-61.002278409814...|                      3.0|         (4,[3],[1.0])|\n",
      "|  -122.24|   37.85|              52.0|     1467.0|         190.0|     496.0|     177.0|       7.2574|352100.0|       NEAR BAY|  8.288135593220339|0.12951601908657123|      2.8022598870056497|[-122.24,37.85,52...|[-61.012260782324...|                      3.0|         (4,[3],[1.0])|\n",
      "|  -122.25|   37.85|              52.0|     1274.0|         235.0|     558.0|     219.0|       5.6431|341300.0|       NEAR BAY| 5.8173515981735155|0.18445839874411302|       2.547945205479452|[-122.25,37.85,52...|[-61.017251968579...|                      3.0|         (4,[3],[1.0])|\n",
      "|  -122.25|   37.85|              52.0|     1627.0|         280.0|     565.0|     259.0|       3.8462|342200.0|       NEAR BAY|  6.281853281853282| 0.1720958819913952|      2.1814671814671813|[-122.25,37.85,52...|[-61.017251968579...|                      3.0|         (4,[3],[1.0])|\n",
      "+---------+--------+------------------+-----------+--------------+----------+----------+-------------+--------+---------------+-------------------+-------------------+------------------------+--------------------+--------------------+-------------------------+----------------------+\n",
      "only showing top 5 rows\n",
      "\n"
     ]
    },
    {
     "data": {
      "text/plain": [
       "import org.apache.spark.ml.{Pipeline, PipelineModel, PipelineStage}\r\n",
       "numPipeline: org.apache.spark.ml.Pipeline = pipeline_f0d533b8e6b8\r\n",
       "catPipeline: org.apache.spark.ml.Pipeline = pipeline_2d649ae1a7cd\r\n",
       "pipeline: org.apache.spark.ml.Pipeline = pipeline_75c5aab10d3e\r\n",
       "newHousing: org.apache.spark.sql.DataFrame = [longitude: double, latitude: double ... 15 more fields]\n"
      ]
     },
     "execution_count": 23,
     "metadata": {},
     "output_type": "execute_result"
    }
   ],
   "source": [
    "import org.apache.spark.ml.{Pipeline, PipelineModel, PipelineStage}\n",
    "\n",
    "val numPipeline = new Pipeline().setStages(Array(imputer,va,scaler))\n",
    "val catPipeline = new Pipeline().setStages(Array(indexer,encoder))\n",
    "val pipeline = new Pipeline().setStages(Array(numPipeline, catPipeline))\n",
    "val newHousing = pipeline.fit(renamedHousing).transform(renamedHousing)\n",
    "\n",
    "newHousing.show(5)"
   ]
  },
  {
   "cell_type": "markdown",
   "metadata": {},
   "source": [
    "Now, use `VectorAssembler` to put all attributes of the final dataset `newHousing` into a big vector, and call the new column `features`."
   ]
  },
  {
   "cell_type": "code",
   "execution_count": 24,
   "metadata": {},
   "outputs": [
    {
     "name": "stdout",
     "output_type": "stream",
     "text": [
      "+------------------------------------------------------------------------------------------------------------------------------------------------------------------------------------------------------------------------------------+--------+\n",
      "|features                                                                                                                                                                                                                            |label   |\n",
      "+------------------------------------------------------------------------------------------------------------------------------------------------------------------------------------------------------------------------------------+--------+\n",
      "|[-61.00726959606955,17.734477624640412,3.2577023016083064,0.40337085073160667,0.30758821710917267,0.2843362208866199,0.3295584480852433,4.382095394195227,2.8228125480951665,2.5405867237343416,0.24605655309533123,0.0,0.0,0.0,1.0]|452600.0|\n",
      "|[-61.002278409814444,17.725114120086744,1.668579227653035,3.2540109878905406,2.637151690873992,2.1201592122632746,2.9764882057222772,4.369567902917918,2.5213017566153497,2.700131633864973,0.2031418986718504,0.0,0.0,0.0,1.0]     |358500.0|\n",
      "|[-61.012260782324645,17.720432367809913,4.131719992283705,0.6724375432082579,0.45303690892048687,0.4379837439744208,0.4629511532626037,3.820042655291457,3.349860792340824,2.244659512945694,0.2698099860028393,0.0,0.0,0.0,1.0]    |352100.0|\n",
      "|[-61.01725196857974,17.720432367809913,4.131719992283705,0.5839709816273487,0.5603351241911285,0.4927317119712234,0.5728039692910182,2.970331345671345,2.3512306012371758,3.1968732702241724,0.2453238057662802,0.0,0.0,0.0,1.0]    |341300.0|\n",
      "|[-61.01725196857974,17.720432367809913,4.131719992283705,0.7457776978867319,0.6676333394617702,0.4989129341644108,0.6774256988418891,2.024505754234575,2.5389707703782265,2.9826168328456415,0.21003820253311387,0.0,0.0,0.0,1.0]   |342200.0|\n",
      "+------------------------------------------------------------------------------------------------------------------------------------------------------------------------------------------------------------------------------------+--------+\n",
      "only showing top 5 rows\n",
      "\n"
     ]
    },
    {
     "data": {
      "text/plain": [
       "va2: org.apache.spark.ml.feature.VectorAssembler = vecAssembler_8502a2faf93d\r\n",
       "dataset: org.apache.spark.sql.DataFrame = [features: vector, label: double]\n"
      ]
     },
     "execution_count": 24,
     "metadata": {},
     "output_type": "execute_result"
    }
   ],
   "source": [
    "val va2 = new VectorAssembler()\n",
    "              .setInputCols(Array(\"scaled_features_temp\",\"ocean_proximity_onehot\"))\n",
    "              .setOutputCol(\"features\")\n",
    "val dataset = va2.transform(newHousing).select(\"features\", \"label\")\n",
    "\n",
    "dataset.show(5,false)"
   ]
  },
  {
   "cell_type": "markdown",
   "metadata": {},
   "source": [
    "---\n",
    "# 5. Make a model\n",
    "Here we going to make four different regression models:\n",
    "* Linear regression model\n",
    "* Decission tree regression\n",
    "* Random forest regression\n",
    "* Gradient-booster forest regression\n",
    "\n",
    "But, before giving the data to train a Machine Learning model, let's first split the data into training dataset (`trainSet`) with 80% of the whole data, and test dataset (`testSet`) with 20% of it."
   ]
  },
  {
   "cell_type": "code",
   "execution_count": 25,
   "metadata": {},
   "outputs": [
    {
     "data": {
      "text/plain": [
       "trainSet: org.apache.spark.sql.Dataset[org.apache.spark.sql.Row] = [features: vector, label: double]\r\n",
       "testSet: org.apache.spark.sql.Dataset[org.apache.spark.sql.Row] = [features: vector, label: double]\n"
      ]
     },
     "execution_count": 25,
     "metadata": {},
     "output_type": "execute_result"
    }
   ],
   "source": [
    "val Array(trainSet, testSet) = dataset.randomSplit(Array(0.8,0.2))"
   ]
  },
  {
   "cell_type": "markdown",
   "metadata": {},
   "source": [
    "## 5.1. Linear regression model\n",
    "Now, train a Linear Regression model using the `LinearRegression` class. Then, print the coefficients and intercept of the model, as well as the summary of the model over the training set by calling the `summary` method."
   ]
  },
  {
   "cell_type": "code",
   "execution_count": 26,
   "metadata": {},
   "outputs": [
    {
     "name": "stdout",
     "output_type": "stream",
     "text": [
      "Coefficients: [-56448.81022555011,-56550.35366710437,13366.938079371965,8285.862275205669,76.82597894565546,-46120.01187223349,43274.240891836096,77451.09662465853,6887.001239647308,16798.338592429714,3146.939480202045,-123758.68669962902,-158643.2734272458,-121782.16586696701,-130402.28590906346], Intercept: -2358520.37258488\n",
      "RMSE: 67587.35999776557\n"
     ]
    },
    {
     "data": {
      "text/plain": [
       "import org.apache.spark.ml.regression.LinearRegression\r\n",
       "lr: org.apache.spark.ml.regression.LinearRegression = linReg_b09ca5b62989\r\n",
       "lrModel: org.apache.spark.ml.regression.LinearRegressionModel = linReg_b09ca5b62989\r\n",
       "trainingSummary: org.apache.spark.ml.regression.LinearRegressionTrainingSummary = org.apache.spark.ml.regression.LinearRegressionTrainingSummary@547e82d8\n"
      ]
     },
     "execution_count": 26,
     "metadata": {},
     "output_type": "execute_result"
    }
   ],
   "source": [
    "import org.apache.spark.ml.regression.LinearRegression\n",
    "\n",
    "// train the model\n",
    "val lr = new LinearRegression()\n",
    "val lrModel = lr.fit(trainSet)\n",
    "val trainingSummary = lrModel.summary\n",
    "\n",
    "println(s\"Coefficients: ${lrModel.coefficients}, Intercept: ${lrModel.intercept}\")\n",
    "println(s\"RMSE: ${trainingSummary.rootMeanSquaredError}\")"
   ]
  },
  {
   "cell_type": "markdown",
   "metadata": {},
   "source": [
    "Now, use `RegressionEvaluator` to measure the root-mean-square-erroe (RMSE) of the model on the test dataset."
   ]
  },
  {
   "cell_type": "code",
   "execution_count": 27,
   "metadata": {},
   "outputs": [
    {
     "name": "stdout",
     "output_type": "stream",
     "text": [
      "+------------------+--------+--------------------+\n",
      "|        prediction|   label|            features|\n",
      "+------------------+--------+--------------------+\n",
      "| 177861.2729229792| 79000.0|[-62.025471592109...|\n",
      "|206966.67809458124|106700.0|[-62.005506847089...|\n",
      "| 120357.3010686473| 68400.0|[-61.995524474579...|\n",
      "|191484.31032353826| 90100.0|[-61.985542102068...|\n",
      "|169408.39543577842| 69000.0|[-61.985542102068...|\n",
      "+------------------+--------+--------------------+\n",
      "only showing top 5 rows\n",
      "\n",
      "Root Mean Squared Error (RMSE) on test data = 69375.7549109374\n"
     ]
    },
    {
     "data": {
      "text/plain": [
       "import org.apache.spark.ml.evaluation.RegressionEvaluator\r\n",
       "predictions: org.apache.spark.sql.DataFrame = [features: vector, label: double ... 1 more field]\r\n",
       "evaluator: org.apache.spark.ml.evaluation.RegressionEvaluator = regEval_d811794220b4\r\n",
       "rmse: Double = 69375.7549109374\n"
      ]
     },
     "execution_count": 27,
     "metadata": {},
     "output_type": "execute_result"
    }
   ],
   "source": [
    "import org.apache.spark.ml.evaluation.RegressionEvaluator\n",
    "\n",
    "// make predictions on the test data\n",
    "val predictions = lrModel.transform(testSet)\n",
    "predictions.select(\"prediction\", \"label\", \"features\").show(5)\n",
    "\n",
    "// select (prediction, true label) and compute test error.\n",
    "val evaluator = new RegressionEvaluator().setLabelCol(\"label\").setPredictionCol(\"prediction\").setMetricName(\"rmse\")\n",
    "val rmse = evaluator.evaluate(predictions)\n",
    "println(s\"Root Mean Squared Error (RMSE) on test data = $rmse\")"
   ]
  },
  {
   "cell_type": "markdown",
   "metadata": {},
   "source": [
    "## 5.2. Decision tree regression\n",
    "Repeat what you have done on Regression Model to build a Decision Tree model. Use the `DecisionTreeRegressor` to make a model and then measure its RMSE on the test dataset."
   ]
  },
  {
   "cell_type": "code",
   "execution_count": 28,
   "metadata": {},
   "outputs": [
    {
     "name": "stdout",
     "output_type": "stream",
     "text": [
      "+------------------+--------+--------------------+\n",
      "|        prediction|   label|            features|\n",
      "+------------------+--------+--------------------+\n",
      "|167306.13913043478| 79000.0|[-62.025471592109...|\n",
      "|167306.13913043478|106700.0|[-62.005506847089...|\n",
      "|167306.13913043478| 68400.0|[-61.995524474579...|\n",
      "| 194426.6505551927| 90100.0|[-61.985542102068...|\n",
      "|148875.44642857142| 69000.0|[-61.985542102068...|\n",
      "+------------------+--------+--------------------+\n",
      "only showing top 5 rows\n",
      "\n",
      "Root Mean Squared Error (RMSE) on test data = 68980.6368931534\n"
     ]
    },
    {
     "data": {
      "text/plain": [
       "import org.apache.spark.ml.regression.DecisionTreeRegressor\r\n",
       "import org.apache.spark.ml.evaluation.RegressionEvaluator\r\n",
       "dt: org.apache.spark.ml.regression.DecisionTreeRegressor = dtr_6c2beaaba4a8\r\n",
       "dtModel: org.apache.spark.ml.regression.DecisionTreeRegressionModel = DecisionTreeRegressionModel (uid=dtr_6c2beaaba4a8) of depth 5 with 63 nodes\r\n",
       "predictions: org.apache.spark.sql.DataFrame = [features: vector, label: double ... 1 more field]\r\n",
       "evaluator: org.apache.spark.ml.evaluation.RegressionEvaluator = regEval_7998a7c2baf5\r\n",
       "rmse: Double = 68980.6368931534\n"
      ]
     },
     "execution_count": 28,
     "metadata": {},
     "output_type": "execute_result"
    }
   ],
   "source": [
    "import org.apache.spark.ml.regression.DecisionTreeRegressor\n",
    "import org.apache.spark.ml.evaluation.RegressionEvaluator\n",
    "\n",
    "val dt = new DecisionTreeRegressor().setLabelCol(\"label\").setFeaturesCol(\"features\")\n",
    "\n",
    "// train the model\n",
    "val dtModel = dt.fit(trainSet)\n",
    "\n",
    "// make predictions on the test data\n",
    "val predictions = dtModel.transform(testSet)\n",
    "predictions.select(\"prediction\", \"label\", \"features\").show(5)\n",
    "\n",
    "// select (prediction, true label) and compute test error\n",
    "val evaluator = new RegressionEvaluator().setLabelCol(\"label\").setPredictionCol(\"prediction\").setMetricName(\"rmse\")\n",
    "val rmse = evaluator.evaluate(predictions)\n",
    "println(s\"Root Mean Squared Error (RMSE) on test data = $rmse\")"
   ]
  },
  {
   "cell_type": "markdown",
   "metadata": {},
   "source": [
    "## 5.3. Random forest regression\n",
    "Let's try the test error on a Random Forest Model. Youcan use the `RandomForestRegressor` to make a Random Forest model."
   ]
  },
  {
   "cell_type": "code",
   "execution_count": 29,
   "metadata": {},
   "outputs": [
    {
     "name": "stdout",
     "output_type": "stream",
     "text": [
      "+------------------+--------+--------------------+\n",
      "|        prediction|   label|            features|\n",
      "+------------------+--------+--------------------+\n",
      "|151715.39036059403| 79000.0|[-62.025471592109...|\n",
      "| 170545.3372775281|106700.0|[-62.005506847089...|\n",
      "| 148268.6202436621| 68400.0|[-61.995524474579...|\n",
      "|196553.40804232968| 90100.0|[-61.985542102068...|\n",
      "|159210.13396455412| 69000.0|[-61.985542102068...|\n",
      "+------------------+--------+--------------------+\n",
      "only showing top 5 rows\n",
      "\n",
      "Root Mean Squared Error (RMSE) on test data = 67089.58739307892\n"
     ]
    },
    {
     "data": {
      "text/plain": [
       "import org.apache.spark.ml.regression.RandomForestRegressor\r\n",
       "import org.apache.spark.ml.evaluation.RegressionEvaluator\r\n",
       "rf: org.apache.spark.ml.regression.RandomForestRegressor = rfr_7ba1237d723d\r\n",
       "rfModel: org.apache.spark.ml.regression.RandomForestRegressionModel = RandomForestRegressionModel (uid=rfr_7ba1237d723d) with 20 trees\r\n",
       "predictions: org.apache.spark.sql.DataFrame = [features: vector, label: double ... 1 more field]\r\n",
       "evaluator: org.apache.spark.ml.evaluation.RegressionEvaluator = regEval_817103497f29\r\n",
       "rmse: Double = 67089.58739307892\n"
      ]
     },
     "execution_count": 29,
     "metadata": {},
     "output_type": "execute_result"
    }
   ],
   "source": [
    "import org.apache.spark.ml.regression.RandomForestRegressor\n",
    "import org.apache.spark.ml.evaluation.RegressionEvaluator\n",
    "\n",
    "val rf = new RandomForestRegressor().setLabelCol(\"label\").setFeaturesCol(\"features\")\n",
    "\n",
    "// train the model\n",
    "val rfModel = rf.fit(trainSet)\n",
    "\n",
    "// make predictions on the test data\n",
    "val predictions = rfModel.transform(testSet)\n",
    "predictions.select(\"prediction\", \"label\", \"features\").show(5)\n",
    "\n",
    "// select (prediction, true label) and compute test error\n",
    "val evaluator = new RegressionEvaluator().setLabelCol(\"label\").setPredictionCol(\"prediction\").setMetricName(\"rmse\")\n",
    "val rmse = evaluator.evaluate(predictions)\n",
    "println(s\"Root Mean Squared Error (RMSE) on test data = $rmse\")"
   ]
  },
  {
   "cell_type": "markdown",
   "metadata": {},
   "source": [
    "## 5.4. Gradient-boosted tree regression\n",
    "Fianlly, we want to build a Gradient-boosted Tree Regression model and test the RMSE of the test data. Use the `GBTRegressor` to build the model."
   ]
  },
  {
   "cell_type": "code",
   "execution_count": 30,
   "metadata": {},
   "outputs": [
    {
     "name": "stdout",
     "output_type": "stream",
     "text": [
      "+------------------+--------+--------------------+\n",
      "|        prediction|   label|            features|\n",
      "+------------------+--------+--------------------+\n",
      "| 94445.48912281399| 79000.0|[-62.025471592109...|\n",
      "|127579.29928621747|106700.0|[-62.005506847089...|\n",
      "|129471.46392211645| 68400.0|[-61.995524474579...|\n",
      "| 89184.91128900625| 90100.0|[-61.985542102068...|\n",
      "| 85628.86441601116| 69000.0|[-61.985542102068...|\n",
      "+------------------+--------+--------------------+\n",
      "only showing top 5 rows\n",
      "\n",
      "Root Mean Squared Error (RMSE) on test data = 56283.18784790383\n"
     ]
    },
    {
     "data": {
      "text/plain": [
       "import org.apache.spark.ml.regression.GBTRegressor\r\n",
       "import org.apache.spark.ml.evaluation.RegressionEvaluator\r\n",
       "gb: org.apache.spark.ml.regression.GBTRegressor = gbtr_51a964473a14\r\n",
       "gbModel: org.apache.spark.ml.regression.GBTRegressionModel = GBTRegressionModel (uid=gbtr_51a964473a14) with 20 trees\r\n",
       "predictions: org.apache.spark.sql.DataFrame = [features: vector, label: double ... 1 more field]\r\n",
       "evaluator: org.apache.spark.ml.evaluation.RegressionEvaluator = regEval_8b2367271a22\r\n",
       "rmse: Double = 56283.18784790383\n"
      ]
     },
     "execution_count": 30,
     "metadata": {},
     "output_type": "execute_result"
    }
   ],
   "source": [
    "import org.apache.spark.ml.regression.GBTRegressor\n",
    "import org.apache.spark.ml.evaluation.RegressionEvaluator\n",
    "\n",
    "val gb = new GBTRegressor().setLabelCol(\"label\").setFeaturesCol(\"features\")\n",
    "\n",
    "// train the model\n",
    "val gbModel = gb.fit(trainSet)\n",
    "\n",
    "// make predictions on the test data\n",
    "val predictions = gbModel.transform(testSet)\n",
    "predictions.select(\"prediction\", \"label\", \"features\").show(5)\n",
    "\n",
    "// select (prediction, true label) and compute test error\n",
    "val evaluator = new RegressionEvaluator().setLabelCol(\"label\").setPredictionCol(\"prediction\").setMetricName(\"rmse\")\n",
    "val rmse = evaluator.evaluate(predictions)\n",
    "println(s\"Root Mean Squared Error (RMSE) on test data = $rmse\")"
   ]
  },
  {
   "cell_type": "markdown",
   "metadata": {},
   "source": [
    "---\n",
    "# 6. Hyperparameter tuning\n",
    "An important task in Machie Learning is model selection, or using data to find the best model or parameters for a given task. This is also called tuning. Tuning may be done for individual Estimators such as LinearRegression, or for entire Pipelines which include multiple algorithms, featurization, and other steps. Users can tune an entire Pipeline at once, rather than tuning each element in the Pipeline separately. MLlib supports model selection tools, such as `CrossValidator`. These tools require the following items:\n",
    "* Estimator: algorithm or Pipeline to tune (`setEstimator`)\n",
    "* Set of ParamMaps: parameters to choose from, sometimes called a \"parameter grid\" to search over (`setEstimatorParamMaps`)\n",
    "* Evaluator: metric to measure how well a fitted Model does on held-out test data (`setEvaluator`)\n",
    "\n",
    "`CrossValidator` begins by splitting the dataset into a set of folds, which are used as separate training and test datasets. For example with `k=3` folds, `CrossValidator` will generate 3 (training, test) dataset pairs, each of which uses 2/3 of the data for training and 1/3 for testing. To evaluate a particular `ParamMap`, `CrossValidator` computes the average evaluation metric for the 3 Models produced by fitting the Estimator on the 3 different (training, test) dataset pairs. After identifying the best `ParamMap`, `CrossValidator` finally re-fits the Estimator using the best ParamMap and the entire dataset.\n",
    "\n",
    "Below, use the `CrossValidator` to select the best Random Forest model. To do so, you need to define a grid of parameters. Let's say we want to do the search among the different number of trees (1, 5, and 10), and different tree depth (5, 10, and 15)."
   ]
  },
  {
   "cell_type": "code",
   "execution_count": 31,
   "metadata": {},
   "outputs": [
    {
     "name": "stdout",
     "output_type": "stream",
     "text": [
      "+------------------+--------+--------------------+\n",
      "|        prediction|   label|            features|\n",
      "+------------------+--------+--------------------+\n",
      "|   92560.648989899| 79000.0|[-62.025471592109...|\n",
      "|186203.76666666666|106700.0|[-62.005506847089...|\n",
      "|113573.27450980393| 68400.0|[-61.995524474579...|\n",
      "| 171889.5825471481| 90100.0|[-61.985542102068...|\n",
      "| 91259.47463768117| 69000.0|[-61.985542102068...|\n",
      "+------------------+--------+--------------------+\n",
      "only showing top 5 rows\n",
      "\n",
      "Root Mean Squared Error (RMSE) on test data = 53856.9134137876\n"
     ]
    },
    {
     "data": {
      "text/plain": [
       "import org.apache.spark.ml.tuning.ParamGridBuilder\r\n",
       "import org.apache.spark.ml.evaluation.RegressionEvaluator\r\n",
       "import org.apache.spark.ml.tuning.CrossValidator\r\n",
       "paramGrid: Array[org.apache.spark.ml.param.ParamMap] =\r\n",
       "Array({\r\n",
       "\trfr_7ba1237d723d-maxDepth: 5,\r\n",
       "\trfr_7ba1237d723d-numTrees: 1\r\n",
       "}, {\r\n",
       "\trfr_7ba1237d723d-maxDepth: 5,\r\n",
       "\trfr_7ba1237d723d-numTrees: 5\r\n",
       "}, {\r\n",
       "\trfr_7ba1237d723d-maxDepth: 5,\r\n",
       "\trfr_7ba1237d723d-numTrees: 10\r\n",
       "}, {\r\n",
       "\trfr_7ba1237d723d-maxDepth: 10,\r\n",
       "\trfr_7ba1237d723d-numTrees: 1\r\n",
       "}, {\r\n",
       "\trfr_7ba1237d723d-maxDepth: 10,\r\n",
       "\trfr_7ba1237d723d-numTrees: 5\r\n",
       "}, {\r\n",
       "\trfr_7ba1237d723d-maxDepth: 10,\r\n",
       "\trfr_7ba1237d723d-numTrees: 10\r\n",
       "}, {\r\n",
       "\trfr_7ba1237d723d-maxDepth: 15,\r\n",
       "\trfr_7ba1237d723d-numTrees: 1\r\n",
       "}, {\r\n",
       "\trfr_7ba1237d723d-maxDepth: 15,\r\n",
       "\trfr_7ba1237d723d-numTrees: 5\r\n",
       "}, {\r\n",
       "\trfr_7ba1237..."
      ]
     },
     "execution_count": 31,
     "metadata": {},
     "output_type": "execute_result"
    }
   ],
   "source": [
    "import org.apache.spark.ml.tuning.ParamGridBuilder\n",
    "import org.apache.spark.ml.evaluation.RegressionEvaluator\n",
    "import org.apache.spark.ml.tuning.CrossValidator\n",
    "\n",
    "val paramGrid = new ParamGridBuilder().addGrid(rf.numTrees,Array(1,5,10)).addGrid(rf.maxDepth,Array(5,10,15)).build()\n",
    "\n",
    "val evaluator = new RegressionEvaluator().setLabelCol(\"label\").setPredictionCol(\"prediction\").setMetricName(\"rmse\")\n",
    "val cv = new CrossValidator().setEstimator(rf).setEvaluator(evaluator).setEstimatorParamMaps(paramGrid).setNumFolds(3)\n",
    "val cvModel = cv.fit(trainSet)\n",
    "\n",
    "val predictions = cvModel.transform(testSet)\n",
    "predictions.select(\"prediction\", \"label\", \"features\").show(5)\n",
    "\n",
    "val rmse = evaluator.evaluate(predictions)\n",
    "println(s\"Root Mean Squared Error (RMSE) on test data = $rmse\")"
   ]
  },
  {
   "cell_type": "markdown",
   "metadata": {},
   "source": [
    "---\n",
    "# 7. Custom transformer\n",
    "At the end of part two, we added extra columns to the `housing` dataset. Here, we are going to implement a Transformer to do the same task. The Transformer should take the name of two input columns `inputCol1` and `inputCol2`, as well as the name of ouput column `outputCol`. It, then, computes `inputCol1` divided by `inputCol2`, and adds its result as a new column to the dataset. The details of the implemeting a custom Tranfomer is explained [here](https://www.oreilly.com/learning/extend-spark-ml-for-your-own-modeltransformer-types). Please read it before before starting to implement it.\n",
    "\n",
    "First, define the given parameters of the Transformer and implement a method to validate their schemas (`StructType`)."
   ]
  },
  {
   "cell_type": "code",
   "execution_count": 32,
   "metadata": {},
   "outputs": [
    {
     "data": {
      "text/plain": [
       "import org.apache.spark.sql.types.{StructField, StructType, DoubleType}\r\n",
       "import org.apache.spark.ml.param.{ParamMap, Param, Params}\r\n",
       "defined trait MyParams\n"
      ]
     },
     "execution_count": 32,
     "metadata": {},
     "output_type": "execute_result"
    }
   ],
   "source": [
    "import org.apache.spark.sql.types.{StructField, StructType, DoubleType}\n",
    "import org.apache.spark.ml.param.{ParamMap, Param, Params}\n",
    "\n",
    "trait MyParams extends Params {\n",
    "    final val inputCol1 = new Param[String](this, \"inputCol1\", \"The first input column\")\n",
    "    final val inputCol2 = new Param[String](this, \"inputCol2\", \"The second input column\")\n",
    "    final val outputCol = new Param[String](this, \"outputCol\", \"The output column\")\n",
    "    \n",
    "  protected def validateAndTransformSchema(schema: StructType): StructType = {\n",
    "    val indexInputCol1 = schema.fieldIndex(\"inputCol1\") \n",
    "    val fieldInputCol1 = schema.fields(indexInputCol1)\n",
    "      \n",
    "    if (fieldInputCol1.dataType != DoubleType) {\n",
    "      throw new Exception(s\"Input type ${fieldInputCol1.dataType} did not match input type DoubleType\")\n",
    "    }\n",
    "    \n",
    "    val indexInputCol2 = schema.fieldIndex(\"inputCol2\")    \n",
    "    val fieldInputCol2 = schema.fields(indexInputCol2)\n",
    "\n",
    "    if (fieldInputCol2.dataType != DoubleType) {\n",
    "      throw new Exception(s\"Input type ${fieldInputCol2.dataType} did not match input type DoubleType\")\n",
    "    }\n",
    "      \n",
    "    schema.add(StructField(\"division\", DoubleType, false))\n",
    "  }\n",
    "}\n"
   ]
  },
  {
   "cell_type": "markdown",
   "metadata": {},
   "source": [
    "Then, extend the class `Transformer`, and implement its setter functions for the input and output columns, and call then `setInputCol1`, `setInputCol2`, and `setOutputCol`. Morever, you need to override the methods `copy`, `transformSchema`, and the `transform`. The details of what you need to cover in these methods is given [here](https://www.oreilly.com/learning/extend-spark-ml-for-your-own-modeltransformer-types)."
   ]
  },
  {
   "cell_type": "code",
   "execution_count": 33,
   "metadata": {},
   "outputs": [
    {
     "data": {
      "text/plain": [
       "import org.apache.spark.ml.util.Identifiable\r\n",
       "import org.apache.spark.ml.Transformer\r\n",
       "import org.apache.spark.ml.param.{ParamMap, Param, Params}\r\n",
       "import org.apache.spark.sql.{DataFrame, Dataset}\r\n",
       "import org.apache.spark.sql.types.StructType\r\n",
       "import org.apache.spark.sql.functions.{col, udf}\r\n",
       "defined class MyTransformer\n"
      ]
     },
     "execution_count": 33,
     "metadata": {},
     "output_type": "execute_result"
    }
   ],
   "source": [
    "import org.apache.spark.ml.util.Identifiable\n",
    "import org.apache.spark.ml.Transformer\n",
    "import org.apache.spark.ml.param.{ParamMap, Param, Params}\n",
    "import org.apache.spark.sql.{DataFrame, Dataset}\n",
    "import org.apache.spark.sql.types.StructType\n",
    "import org.apache.spark.sql.functions.{col, udf}\n",
    "\n",
    "class MyTransformer(override val uid: String) extends Transformer with MyParams {\n",
    "    def this() = this(Identifiable.randomUID(\"superbeautifultransformer\"))\n",
    "    \n",
    "    def setInputCol1(value: String): this.type = set(inputCol1, value)\n",
    "    \n",
    "    def setInputCol2(value: String): this.type = set(inputCol2, value)\n",
    "    \n",
    "    def setOutputCol(value: String): this.type = set(outputCol, value)\n",
    "\n",
    "    override def copy(extra: ParamMap): MyTransformer = {\n",
    "        defaultCopy(extra)\n",
    "    }\n",
    "    override def transformSchema(schema: StructType): \n",
    "        StructType = {\n",
    "            validateAndTransformSchema(schema)\n",
    "        }\n",
    "    \n",
    "    override def transform(dataset: Dataset[_]): DataFrame = {\n",
    "        val col1 = dataset.col($(inputCol1))\n",
    "        val col2 = dataset.col($(inputCol2))\n",
    "        dataset.withColumn($(outputCol), col1 / col2)\n",
    "    }\n",
    "}"
   ]
  },
  {
   "cell_type": "markdown",
   "metadata": {},
   "source": [
    "Now, an instance of `MyTransformer`, and set the input columns `total_rooms` and `households`, and the output column `rooms_per_household` and run it over the `housing` dataset."
   ]
  },
  {
   "cell_type": "code",
   "execution_count": 34,
   "metadata": {
    "scrolled": true
   },
   "outputs": [
    {
     "name": "stdout",
     "output_type": "stream",
     "text": [
      "+-------------------+\n",
      "|rooms_per_household|\n",
      "+-------------------+\n",
      "|  6.984126984126984|\n",
      "|  6.238137082601054|\n",
      "|  8.288135593220339|\n",
      "| 5.8173515981735155|\n",
      "|  6.281853281853282|\n",
      "+-------------------+\n",
      "only showing top 5 rows\n",
      "\n"
     ]
    },
    {
     "data": {
      "text/plain": [
       "myTransformer: MyTransformer = superbeautifultransformer_0179190ac832\r\n",
       "myDataset: Unit = ()\n"
      ]
     },
     "execution_count": 34,
     "metadata": {},
     "output_type": "execute_result"
    }
   ],
   "source": [
    "val myTransformer = new MyTransformer().setInputCol1(\"total_rooms\").setInputCol2(\"households\").setOutputCol(\"rooms_per_household\")\n",
    "\n",
    "val myDataset = myTransformer.transform(housing).select(\"rooms_per_household\").show(5)"
   ]
  },
  {
   "cell_type": "markdown",
   "metadata": {},
   "source": [
    "---\n",
    "# 8. Custom estimator (predictor)\n",
    "Now, it's time to implement your own linear regression with gradient descent algorithm as a brand new Estimator. The whole code of the Estimator is given to you, and you do not need to implement anything. It is just a sample that shows how to build a custom Estimator.\n",
    "\n",
    "The gradient descent update for linear regression is:\n",
    "$$\n",
    "w_{i+1} = w_{i} - \\alpha_{i} \\sum\\limits_{j=1}^n (w_i^\\top x_j - y_j)x_j\n",
    "$$\n",
    "\n",
    "where $i$ is the iteration number of the gradient descent algorithm, and $j$ identifies the observation. Here, $w$ represents an array of weights that is the same size as the array of features and provides a weight for each of the features when finally computing the label prediction in the form:\n",
    "\n",
    "$$\n",
    "prediction = w^\\top \\cdot\\ x\n",
    "$$\n",
    "\n",
    "where $w$ is the final array of weights computed by the gradient descent, $x$ is the array of features of the observation point and $prediction$ is the label we predict should be associated to this observation.\n",
    "\n",
    "The given `Helper` class implements the helper methods:\n",
    "* `dot`: implements the dot product of two vectors and the dot product of a vector and a scalar\n",
    "* `sum`: implements addition of two vectors\n",
    "* `fill`: creates a vector of predefined size and initialize it with the predefined value\n",
    "\n",
    "What you need to do is to implement the methods of the Linear Regresstion class `LR`, which are\n",
    "* `rmsd`: computes the Root Mean Square Error of a given RDD of tuples of (label, prediction) using the formula:\n",
    "$$\n",
    "rmse = \\sqrt{\\frac{\\sum\\limits_{i=1}^n (label - prediction)^2}{n}}\n",
    "$$\n",
    "* `gradientSummand`: computes the following formula:\n",
    "$$\n",
    "gs_{ij} = (w_i^\\top x_j - y_j)x_j\n",
    "$$\n",
    "* `gradient`: computes the following formula:\n",
    "$$\n",
    "gradient = \\sum\\limits_{j=1}^n gs_{ij}\n",
    "$$"
   ]
  },
  {
   "cell_type": "code",
   "execution_count": 35,
   "metadata": {},
   "outputs": [
    {
     "data": {
      "text/plain": [
       "import org.apache.spark.ml.linalg.Vector\r\n",
       "import org.apache.spark.ml.PredictorParams\r\n",
       "import org.apache.spark.ml.param.ParamMap\r\n",
       "import org.apache.spark.ml.util._\r\n",
       "import org.apache.spark.rdd.RDD\r\n",
       "import org.apache.spark.sql.Dataset\r\n",
       "import org.apache.spark.sql.functions._\r\n",
       "import org.apache.spark.sql.Row\r\n",
       "import org.apache.spark.ml.linalg.Vectors\r\n",
       "import org.apache.spark.ml.linalg.Matrices\r\n",
       "import org.apache.spark.mllib.evaluation.RegressionMetrics\r\n",
       "import org.apache.spark.ml.{PredictionModel, Predictor}\r\n",
       "defined class Instance\r\n",
       "defined object Helper\n"
      ]
     },
     "execution_count": 35,
     "metadata": {},
     "output_type": "execute_result"
    }
   ],
   "source": [
    "import org.apache.spark.ml.linalg.Vector\n",
    "import org.apache.spark.ml.PredictorParams\n",
    "import org.apache.spark.ml.param.ParamMap\n",
    "import org.apache.spark.ml.util._\n",
    "import org.apache.spark.rdd.RDD\n",
    "import org.apache.spark.sql.Dataset\n",
    "import org.apache.spark.sql.functions._\n",
    "import org.apache.spark.sql.Row\n",
    "import org.apache.spark.ml.linalg.Vectors\n",
    "import org.apache.spark.ml.linalg.Matrices\n",
    "import org.apache.spark.mllib.evaluation.RegressionMetrics\n",
    "import org.apache.spark.ml.{PredictionModel, Predictor}\n",
    "\n",
    "case class Instance(label: Double, features: Vector)\n",
    "\n",
    "object Helper extends Serializable {\n",
    "  def dot(v1: Vector, v2: Vector): Double = {\n",
    "    val m = Matrices.dense(1, v1.size, v1.toArray)\n",
    "    m.multiply(v2).values(0)\n",
    "  }\n",
    "\n",
    "  def dot(v: Vector, s: Double): Vector = {\n",
    "    val baseArray = v.toArray.map(vi => vi * s)\n",
    "    Vectors.dense(baseArray)\n",
    "  }\n",
    "\n",
    "  def sumVectors(v1: Vector, v2: Vector): Vector = {\n",
    "    val baseArray = ((v1.toArray) zip (v2.toArray)).map { case (val1, val2) => val1 + val2 }\n",
    "    Vectors.dense(baseArray)\n",
    "  }\n",
    "\n",
    "  def fillVector(size: Int, fillVal: Double): Vector = Vectors.dense(Array.fill[Double](size)(fillVal));\n",
    "}"
   ]
  },
  {
   "cell_type": "code",
   "execution_count": 36,
   "metadata": {},
   "outputs": [
    {
     "data": {
      "text/plain": [
       "import org.apache.spark.ml.linalg.Vector\r\n",
       "import org.apache.spark.ml.PredictorParams\r\n",
       "import org.apache.spark.ml.param.ParamMap\r\n",
       "import org.apache.spark.ml.util._\r\n",
       "import org.apache.spark.rdd.RDD\r\n",
       "import org.apache.spark.sql.Dataset\r\n",
       "import org.apache.spark.sql.functions._\r\n",
       "import org.apache.spark.sql.Row\r\n",
       "import org.apache.spark.ml.linalg.Vectors\r\n",
       "import org.apache.spark.ml.linalg.Matrices\r\n",
       "import org.apache.spark.mllib.evaluation.RegressionMetrics\r\n",
       "import org.apache.spark.ml.{PredictionModel, Predictor}\r\n",
       "defined class LR\n"
      ]
     },
     "execution_count": 36,
     "metadata": {},
     "output_type": "execute_result"
    }
   ],
   "source": [
    "import org.apache.spark.ml.linalg.Vector\n",
    "import org.apache.spark.ml.PredictorParams\n",
    "import org.apache.spark.ml.param.ParamMap\n",
    "import org.apache.spark.ml.util._\n",
    "import org.apache.spark.rdd.RDD\n",
    "import org.apache.spark.sql.Dataset\n",
    "import org.apache.spark.sql.functions._\n",
    "import org.apache.spark.sql.Row\n",
    "import org.apache.spark.ml.linalg.Vectors\n",
    "import org.apache.spark.ml.linalg.Matrices\n",
    "import org.apache.spark.mllib.evaluation.RegressionMetrics\n",
    "import org.apache.spark.ml.{PredictionModel, Predictor}\n",
    "\n",
    "class LR() extends Serializable {\n",
    "  def calcRMSE(labelsAndPreds: RDD[(Double, Double)]): Double = {\n",
    "    val regressionMetrics = new RegressionMetrics(labelsAndPreds)\n",
    "    regressionMetrics.rootMeanSquaredError\n",
    "  }\n",
    "  \n",
    "  def gradientSummand(weights: Vector, lp: Instance): Vector = {\n",
    "    val mult = (Helper.dot(weights, lp.features) - lp.label)\n",
    "    val seq = (0 to lp.features.size - 1).map(i => lp.features(i) * mult)\n",
    "    return Vectors.dense(seq.toArray)\n",
    "  }\n",
    "  \n",
    "  def linregGradientDescent(trainData: RDD[Instance], numIters: Int): (Vector, Array[Double]) = {\n",
    "    val n = trainData.count()\n",
    "    val d = trainData.take(1)(0).features.size\n",
    "    var w = Helper.fillVector(d, 0)\n",
    "    val alpha = 1.0\n",
    "    val errorTrain = Array.fill[Double](numIters)(0.0)\n",
    "\n",
    "    for (i <- 0 until numIters) {\n",
    "      val labelsAndPredsTrain = trainData.map(lp => (lp.label, Helper.dot(w, lp.features)))\n",
    "      errorTrain(i) = calcRMSE(labelsAndPredsTrain)\n",
    "\n",
    "      val gradient = trainData.map(lp => gradientSummand(w, lp)).reduce((v1, v2) => Helper.sumVectors(v1, v2))\n",
    "      val alpha_i = alpha / (n * scala.math.sqrt(i + 1))\n",
    "      val wAux = Helper.dot(gradient, (-1) * alpha_i)\n",
    "      w = Helper.sumVectors(w, wAux)\n",
    "    }\n",
    "    (w, errorTrain)\n",
    "  }\n",
    "}"
   ]
  },
  {
   "cell_type": "code",
   "execution_count": 37,
   "metadata": {},
   "outputs": [
    {
     "data": {
      "text/plain": [
       "import org.apache.spark.ml.linalg.Vector\r\n",
       "import org.apache.spark.ml.PredictorParams\r\n",
       "import org.apache.spark.ml.param.ParamMap\r\n",
       "import org.apache.spark.ml.util._\r\n",
       "import org.apache.spark.rdd.RDD\r\n",
       "import org.apache.spark.sql.Dataset\r\n",
       "import org.apache.spark.sql.functions._\r\n",
       "import org.apache.spark.sql.Row\r\n",
       "import org.apache.spark.ml.linalg.Vectors\r\n",
       "import org.apache.spark.ml.linalg.Matrices\r\n",
       "import org.apache.spark.mllib.evaluation.RegressionMetrics\r\n",
       "import org.apache.spark.ml.{PredictionModel, Predictor}\r\n",
       "defined class MyLinearModel\r\n",
       "defined class MyLinearModelImpl\n"
      ]
     },
     "execution_count": 37,
     "metadata": {},
     "output_type": "execute_result"
    }
   ],
   "source": [
    "import org.apache.spark.ml.linalg.Vector\n",
    "import org.apache.spark.ml.PredictorParams\n",
    "import org.apache.spark.ml.param.ParamMap\n",
    "import org.apache.spark.ml.util._\n",
    "import org.apache.spark.rdd.RDD\n",
    "import org.apache.spark.sql.Dataset\n",
    "import org.apache.spark.sql.functions._\n",
    "import org.apache.spark.sql.Row\n",
    "import org.apache.spark.ml.linalg.Vectors\n",
    "import org.apache.spark.ml.linalg.Matrices\n",
    "import org.apache.spark.mllib.evaluation.RegressionMetrics\n",
    "import org.apache.spark.ml.{PredictionModel, Predictor}\n",
    "\n",
    "abstract class MyLinearModel[FeaturesType, Model <: MyLinearModel[FeaturesType, Model]]\n",
    "  extends PredictionModel[FeaturesType, Model] {\n",
    "}\n",
    "\n",
    "class MyLinearModelImpl(override val uid: String, val weights: Vector, val trainingError: Array[Double])\n",
    "    extends MyLinearModel[Vector, MyLinearModelImpl] {\n",
    "\n",
    "  override def copy(extra: ParamMap): MyLinearModelImpl = defaultCopy(extra)\n",
    "\n",
    "  def predict(features: Vector): Double = {\n",
    "    println(\"Predicting\")\n",
    "    val prediction = Helper.dot(weights, features)\n",
    "    prediction\n",
    "  }\n",
    "}"
   ]
  },
  {
   "cell_type": "code",
   "execution_count": 38,
   "metadata": {},
   "outputs": [
    {
     "data": {
      "text/plain": [
       "import org.apache.spark.ml.linalg.Vector\r\n",
       "import org.apache.spark.ml.PredictorParams\r\n",
       "import org.apache.spark.ml.param.ParamMap\r\n",
       "import org.apache.spark.ml.util._\r\n",
       "import org.apache.spark.rdd.RDD\r\n",
       "import org.apache.spark.sql.Dataset\r\n",
       "import org.apache.spark.sql.functions._\r\n",
       "import org.apache.spark.sql.Row\r\n",
       "import org.apache.spark.ml.linalg.Vectors\r\n",
       "import org.apache.spark.ml.linalg.Matrices\r\n",
       "import org.apache.spark.mllib.evaluation.RegressionMetrics\r\n",
       "import org.apache.spark.ml.{PredictionModel, Predictor}\r\n",
       "defined class MyLinearRegression\r\n",
       "defined class MyLinearRegressionImpl\n"
      ]
     },
     "execution_count": 38,
     "metadata": {},
     "output_type": "execute_result"
    }
   ],
   "source": [
    "import org.apache.spark.ml.linalg.Vector\n",
    "import org.apache.spark.ml.PredictorParams\n",
    "import org.apache.spark.ml.param.ParamMap\n",
    "import org.apache.spark.ml.util._\n",
    "import org.apache.spark.rdd.RDD\n",
    "import org.apache.spark.sql.Dataset\n",
    "import org.apache.spark.sql.functions._\n",
    "\n",
    "import org.apache.spark.sql.Row\n",
    "import org.apache.spark.ml.linalg.Vectors\n",
    "import org.apache.spark.ml.linalg.Matrices\n",
    "import org.apache.spark.mllib.evaluation.RegressionMetrics\n",
    "import org.apache.spark.ml.{PredictionModel, Predictor}\n",
    "\n",
    "abstract class MyLinearRegression[\n",
    "    FeaturesType,\n",
    "    Learner <: MyLinearRegression[FeaturesType, Learner, Model],\n",
    "    Model <: MyLinearModel[FeaturesType, Model]]\n",
    "  extends Predictor[FeaturesType, Learner, Model] {\n",
    "}\n",
    "\n",
    "class MyLinearRegressionImpl(override val uid: String)\n",
    "    extends MyLinearRegression[Vector, MyLinearRegressionImpl, MyLinearModelImpl] {\n",
    "  def this() = this(Identifiable.randomUID(\"linReg\"))\n",
    "\n",
    "  override def copy(extra: ParamMap): MyLinearRegressionImpl = defaultCopy(extra)\n",
    "  \n",
    "  def train(dataset: Dataset[_]): MyLinearModelImpl = {\n",
    "    println(\"Training\")\n",
    "\n",
    "    val numIters = 10\n",
    "\n",
    "    val instances: RDD[Instance] = dataset.select(\n",
    "      col($(labelCol)), col($(featuresCol))).rdd.map {\n",
    "        case Row(label: Double, features: Vector) =>\n",
    "          Instance(label, features)\n",
    "      }\n",
    "\n",
    "    val (weights, trainingError) = new LR().linregGradientDescent(instances, numIters)\n",
    "\n",
    "    new MyLinearModelImpl(uid, weights, trainingError)\n",
    "  }\n",
    "}"
   ]
  },
  {
   "cell_type": "code",
   "execution_count": 39,
   "metadata": {},
   "outputs": [
    {
     "name": "stdout",
     "output_type": "stream",
     "text": [
      "Training\n"
     ]
    },
    {
     "ename": "org.apache.spark.SparkDriverExecutionException",
     "evalue": " Execution error\r",
     "output_type": "error",
     "traceback": [
      "org.apache.spark.SparkDriverExecutionException: Execution error\r",
      "  at org.apache.spark.scheduler.DAGScheduler.handleTaskCompletion(DAGScheduler.scala:1377)\r",
      "  at org.apache.spark.scheduler.DAGSchedulerEventProcessLoop.doOnReceive(DAGScheduler.scala:2107)\r",
      "  at org.apache.spark.scheduler.DAGSchedulerEventProcessLoop.onReceive(DAGScheduler.scala:2059)\r",
      "  at org.apache.spark.scheduler.DAGSchedulerEventProcessLoop.onReceive(DAGScheduler.scala:2048)\r",
      "  at org.apache.spark.util.EventLoop$$anon$1.run(EventLoop.scala:49)\r",
      "  at org.apache.spark.scheduler.DAGScheduler.runJob(DAGScheduler.scala:737)\r",
      "  at org.apache.spark.SparkContext.runJob(SparkContext.scala:2061)\r",
      "  at org.apache.spark.SparkContext.runJob(SparkContext.scala:2082)\r",
      "  at org.apache.spark.SparkContext.runJob(SparkContext.scala:2101)\r",
      "  at org.apache.spark.rdd.RDD$$anonfun$take$1.apply(RDD.scala:1364)\r",
      "  at org.apache.spark.rdd.RDDOperationScope$.withScope(RDDOperationScope.scala:151)\r",
      "  at org.apache.spark.rdd.RDDOperationScope$.withScope(RDDOperationScope.scala:112)\r",
      "  at org.apache.spark.rdd.RDD.withScope(RDD.scala:363)\r",
      "  at org.apache.spark.rdd.RDD.take(RDD.scala:1337)\r",
      "  at LR.linregGradientDescent(<console>:43)\r",
      "  at MyLinearRegressionImpl.train(<console>:57)\r",
      "  at MyLinearRegressionImpl.train(<console>:40)\r",
      "  at org.apache.spark.ml.Predictor.fit(Predictor.scala:118)\r",
      "  ... 54 elided\r",
      "Caused by: java.lang.ArrayStoreException: [LInstance;\r",
      "  at scala.runtime.ScalaRunTime$.array_update(ScalaRunTime.scala:90)\r",
      "  at org.apache.spark.SparkContext$$anonfun$runJob$4.apply(SparkContext.scala:2082)\r",
      "  at org.apache.spark.SparkContext$$anonfun$runJob$4.apply(SparkContext.scala:2082)\r",
      "  at org.apache.spark.scheduler.JobWaiter.taskSucceeded(JobWaiter.scala:59)\r",
      "  at org.apache.spark.scheduler.DAGScheduler.handleTaskCompletion(DAGScheduler.scala:1373)\r",
      "  at org.apache.spark.scheduler.DAGSchedulerEventProcessLoop.doOnReceive(DAGScheduler.scala:2107)\r",
      "  at org.apache.spark.scheduler.DAGSchedulerEventProcessLoop.onReceive(DAGScheduler.scala:2059)\r",
      "  at org.apache.spark.scheduler.DAGSchedulerEventProcessLoop.onReceive(DAGScheduler.scala:2048)\r",
      "  at org.apache.spark.util.EventLoop$$anon$1.run(EventLoop.scala:49)",
      ""
     ]
    }
   ],
   "source": [
    "import org.apache.spark.ml.evaluation.RegressionEvaluator\n",
    "\n",
    "val lr = new MyLinearRegressionImpl().setLabelCol(\"label\").setFeaturesCol(\"features\")\n",
    "val model = lr.fit(trainSet)\n",
    "val predictions = model.transform(testSet)\n",
    "predictions.select(\"prediction\", \"label\", \"features\").show(5)\n",
    "\n",
    "// Select (prediction, true label) and compute test error.\n",
    "val evaluator = new RegressionEvaluator().setLabelCol(\"label\").setPredictionCol(\"prediction\").setMetricName(\"rmse\")\n",
    "val rmse = evaluator.evaluate(predictions)\n",
    "println(s\"Root Mean Squared Error (RMSE) on test data = $rmse\")"
   ]
  },
  {
   "cell_type": "markdown",
   "metadata": {},
   "source": [
    "##### ---\n",
    "# 9. An End-to-End Classification Test\n",
    "As the last step, you are given a dataset called `data/ccdefault.csv`. The dataset represents default of credit card clients. It has 30,000 cases and 24 different attributes. More details about the dataset is available at `data/ccdefault.txt`. In this task you should make three models, compare their results and conclude the ideal solution. Here are the suggested steps:\n",
    "1. Load the data.\n",
    "2. Carry out some exploratory analyses (e.g., how various features and the target variable are distributed).\n",
    "3. Train a model to predict the target variable (risk of `default`).\n",
    "  - Employ three different models (logistic regression, decision tree, and random forest).\n",
    "  - Compare the models' performances (e.g., AUC).\n",
    "  - Defend your choice of best model (e.g., what are the strength and weaknesses of each of these models?).\n",
    "4. What more would you do with this data? Anything to help you devise a better solution?"
   ]
  },
  {
   "cell_type": "markdown",
   "metadata": {},
   "source": [
    "## 1. Load the data."
   ]
  },
  {
   "cell_type": "markdown",
   "metadata": {},
   "source": [
    "We read the dataset and rename the column DEFAULT as label."
   ]
  },
  {
   "cell_type": "code",
   "execution_count": 1,
   "metadata": {},
   "outputs": [
    {
     "data": {
      "text/plain": [
       "Intitializing Scala interpreter ..."
      ]
     },
     "metadata": {},
     "output_type": "display_data"
    },
    {
     "data": {
      "text/plain": [
       "Spark Web UI available at http://LAPTOP-QRC7UDIG-di-Riccardo:4040\n",
       "SparkContext available as 'sc' (version = 2.4.4, master = local[*], app id = local-1574416260023)\n",
       "SparkSession available as 'spark'\n"
      ]
     },
     "metadata": {},
     "output_type": "display_data"
    },
    {
     "data": {
      "text/plain": [
       "cards: org.apache.spark.sql.DataFrame = [ID: int, LIMIT_BAL: int ... 23 more fields]\r\n",
       "renamedCards: org.apache.spark.sql.DataFrame = [ID: int, LIMIT_BAL: int ... 23 more fields]\n"
      ]
     },
     "execution_count": 1,
     "metadata": {},
     "output_type": "execute_result"
    }
   ],
   "source": [
    "val cards = spark.read.format(\"csv\").option(\"header\",\"true\").option(\"inferSchema\",\"true\").load(\"data/ccdefault.csv\")\n",
    "\n",
    "val renamedCards = cards.withColumnRenamed(\"DEFAULT\",\"label\")"
   ]
  },
  {
   "cell_type": "markdown",
   "metadata": {},
   "source": [
    "## 2. Carry out some exploratory analyses (e.g., how various features and the target variable are distributed).\n",
    "\n",
    "\n",
    "First of all, we want to understand what the dataset contains. In order to do so we print the Schema of it and the first 5 rows."
   ]
  },
  {
   "cell_type": "code",
   "execution_count": 2,
   "metadata": {},
   "outputs": [
    {
     "name": "stdout",
     "output_type": "stream",
     "text": [
      "root\n",
      " |-- ID: integer (nullable = true)\n",
      " |-- LIMIT_BAL: integer (nullable = true)\n",
      " |-- SEX: integer (nullable = true)\n",
      " |-- EDUCATION: integer (nullable = true)\n",
      " |-- MARRIAGE: integer (nullable = true)\n",
      " |-- AGE: integer (nullable = true)\n",
      " |-- PAY_0: integer (nullable = true)\n",
      " |-- PAY_2: integer (nullable = true)\n",
      " |-- PAY_3: integer (nullable = true)\n",
      " |-- PAY_4: integer (nullable = true)\n",
      " |-- PAY_5: integer (nullable = true)\n",
      " |-- PAY_6: integer (nullable = true)\n",
      " |-- BILL_AMT1: integer (nullable = true)\n",
      " |-- BILL_AMT2: integer (nullable = true)\n",
      " |-- BILL_AMT3: integer (nullable = true)\n",
      " |-- BILL_AMT4: integer (nullable = true)\n",
      " |-- BILL_AMT5: integer (nullable = true)\n",
      " |-- BILL_AMT6: integer (nullable = true)\n",
      " |-- PAY_AMT1: integer (nullable = true)\n",
      " |-- PAY_AMT2: integer (nullable = true)\n",
      " |-- PAY_AMT3: integer (nullable = true)\n",
      " |-- PAY_AMT4: integer (nullable = true)\n",
      " |-- PAY_AMT5: integer (nullable = true)\n",
      " |-- PAY_AMT6: integer (nullable = true)\n",
      " |-- label: integer (nullable = true)\n",
      "\n"
     ]
    }
   ],
   "source": [
    "renamedCards.printSchema()"
   ]
  },
  {
   "cell_type": "code",
   "execution_count": 3,
   "metadata": {},
   "outputs": [
    {
     "name": "stdout",
     "output_type": "stream",
     "text": [
      "+---+---------+---+---------+--------+---+-----+-----+-----+-----+-----+-----+---------+---------+---------+---------+---------+---------+--------+--------+--------+--------+--------+--------+-----+\n",
      "|ID |LIMIT_BAL|SEX|EDUCATION|MARRIAGE|AGE|PAY_0|PAY_2|PAY_3|PAY_4|PAY_5|PAY_6|BILL_AMT1|BILL_AMT2|BILL_AMT3|BILL_AMT4|BILL_AMT5|BILL_AMT6|PAY_AMT1|PAY_AMT2|PAY_AMT3|PAY_AMT4|PAY_AMT5|PAY_AMT6|label|\n",
      "+---+---------+---+---------+--------+---+-----+-----+-----+-----+-----+-----+---------+---------+---------+---------+---------+---------+--------+--------+--------+--------+--------+--------+-----+\n",
      "|1  |20000    |2  |2        |1       |24 |2    |2    |-1   |-1   |-2   |-2   |3913     |3102     |689      |0        |0        |0        |0       |689     |0       |0       |0       |0       |1    |\n",
      "|2  |120000   |2  |2        |2       |26 |-1   |2    |0    |0    |0    |2    |2682     |1725     |2682     |3272     |3455     |3261     |0       |1000    |1000    |1000    |0       |2000    |1    |\n",
      "|3  |90000    |2  |2        |2       |34 |0    |0    |0    |0    |0    |0    |29239    |14027    |13559    |14331    |14948    |15549    |1518    |1500    |1000    |1000    |1000    |5000    |0    |\n",
      "|4  |50000    |2  |2        |1       |37 |0    |0    |0    |0    |0    |0    |46990    |48233    |49291    |28314    |28959    |29547    |2000    |2019    |1200    |1100    |1069    |1000    |0    |\n",
      "|5  |50000    |1  |2        |1       |57 |-1   |0    |-1   |0    |0    |0    |8617     |5670     |35835    |20940    |19146    |19131    |2000    |36681   |10000   |9000    |689     |679     |0    |\n",
      "+---+---------+---+---------+--------+---+-----+-----+-----+-----+-----+-----+---------+---------+---------+---------+---------+---------+--------+--------+--------+--------+--------+--------+-----+\n",
      "only showing top 5 rows\n",
      "\n"
     ]
    }
   ],
   "source": [
    "renamedCards.select(\"*\").show(5,false)"
   ]
  },
  {
   "cell_type": "markdown",
   "metadata": {},
   "source": [
    "We want to check the distribution of the target variable. In order to do so we count the number of samples with default value 1 and 0"
   ]
  },
  {
   "cell_type": "code",
   "execution_count": 4,
   "metadata": {},
   "outputs": [
    {
     "name": "stdout",
     "output_type": "stream",
     "text": [
      "+-----+-----+-------+\n",
      "|label|count|percent|\n",
      "+-----+-----+-------+\n",
      "|    1| 6636| 0.2212|\n",
      "|    0|23364| 0.7788|\n",
      "+-----+-----+-------+\n",
      "\n"
     ]
    }
   ],
   "source": [
    "renamedCards.groupBy(\"label\").count().withColumn(\"percent\",col(\"count\")/30000).show()"
   ]
  },
  {
   "cell_type": "markdown",
   "metadata": {},
   "source": [
    "As we can see, the number of non-default samples are almost 4 times larger than the default. Therefore, we cannot refer only to the accuracy metric to evaluate the trained model but we have to use other metrics such as the area under the ROC curve.\n",
    "\n",
    "Below we further perform the exploratory analysis by getting the count, mean, standard deviation, min and max value of the attributes LIMIT_BAL."
   ]
  },
  {
   "cell_type": "code",
   "execution_count": 5,
   "metadata": {},
   "outputs": [
    {
     "name": "stdout",
     "output_type": "stream",
     "text": [
      "+-------+------------------+\n",
      "|summary|         LIMIT_BAL|\n",
      "+-------+------------------+\n",
      "|  count|             30000|\n",
      "|   mean|167484.32266666667|\n",
      "| stddev|129747.66156720246|\n",
      "|    min|             10000|\n",
      "|    max|           1000000|\n",
      "+-------+------------------+\n",
      "\n"
     ]
    }
   ],
   "source": [
    "renamedCards.describe(\"LIMIT_BAL\").show()"
   ]
  },
  {
   "cell_type": "markdown",
   "metadata": {},
   "source": [
    "If given credit would be normally distributed the mean would be 505,000. Here we can observe that the mean is significantly lower meaning that the limits are usually lower than the mid value."
   ]
  },
  {
   "cell_type": "code",
   "execution_count": 6,
   "metadata": {},
   "outputs": [
    {
     "name": "stdout",
     "output_type": "stream",
     "text": [
      "+---+-----+-------------------+\n",
      "|SEX|count|            percent|\n",
      "+---+-----+-------------------+\n",
      "|  1|11888|0.39626666666666666|\n",
      "|  2|18112| 0.6037333333333333|\n",
      "+---+-----+-------------------+\n",
      "\n"
     ]
    }
   ],
   "source": [
    "renamedCards.groupBy(\"SEX\").count().withColumn(\"percent\",col(\"count\")/30000).show()"
   ]
  },
  {
   "cell_type": "markdown",
   "metadata": {},
   "source": [
    "Here we can observe that there are more females than males."
   ]
  },
  {
   "cell_type": "code",
   "execution_count": 7,
   "metadata": {},
   "outputs": [
    {
     "name": "stdout",
     "output_type": "stream",
     "text": [
      "+---------+-----+---------------------+\n",
      "|EDUCATION|count|percent              |\n",
      "+---------+-----+---------------------+\n",
      "|0        |14   |4.6666666666666666E-4|\n",
      "|1        |10585|0.35283333333333333  |\n",
      "|2        |14030|0.4676666666666667   |\n",
      "|3        |4917 |0.1639               |\n",
      "|4        |123  |0.0041               |\n",
      "|5        |280  |0.009333333333333334 |\n",
      "|6        |51   |0.0017               |\n",
      "+---------+-----+---------------------+\n",
      "\n"
     ]
    }
   ],
   "source": [
    "renamedCards.groupBy(\"EDUCATION\").count().withColumn(\"percent\",col(\"count\")/30000).orderBy(\"EDUCATION\").show(false)"
   ]
  },
  {
   "cell_type": "markdown",
   "metadata": {},
   "source": [
    "The education values are between 0 and 6, and not from 1 to 4, as described in the txt file."
   ]
  },
  {
   "cell_type": "code",
   "execution_count": 8,
   "metadata": {},
   "outputs": [
    {
     "name": "stdout",
     "output_type": "stream",
     "text": [
      "ID 0\n",
      "LIMIT_BAL 0\n",
      "SEX 0\n",
      "EDUCATION 0\n",
      "MARRIAGE 0\n",
      "AGE 0\n",
      "PAY_0 0\n",
      "PAY_2 0\n",
      "PAY_3 0\n",
      "PAY_4 0\n",
      "PAY_5 0\n",
      "PAY_6 0\n",
      "BILL_AMT1 0\n",
      "BILL_AMT2 0\n",
      "BILL_AMT3 0\n",
      "BILL_AMT4 0\n",
      "BILL_AMT5 0\n",
      "BILL_AMT6 0\n",
      "PAY_AMT1 0\n",
      "PAY_AMT2 0\n",
      "PAY_AMT3 0\n",
      "PAY_AMT4 0\n",
      "PAY_AMT5 0\n",
      "PAY_AMT6 0\n",
      "label 0\n"
     ]
    }
   ],
   "source": [
    "for (c <- renamedCards.columns) {\n",
    "    print(c + \" \")\n",
    "    println(renamedCards.select(c).where(c+\" IS NULL\").count())\n",
    "}"
   ]
  },
  {
   "cell_type": "markdown",
   "metadata": {},
   "source": [
    "Finally, there are no missing values in the dataset, so we do not need an inputer as a preprocessing step."
   ]
  },
  {
   "cell_type": "markdown",
   "metadata": {},
   "source": [
    "## 3. Train a model to predict the target variable (risk of default).\n",
    "\n",
    "### 3.1 Preprocessing\n",
    "\n",
    "First of all, we want to eliminate the ID column, as it is not relevant for the model we will train."
   ]
  },
  {
   "cell_type": "code",
   "execution_count": 9,
   "metadata": {},
   "outputs": [
    {
     "name": "stdout",
     "output_type": "stream",
     "text": [
      "root\n",
      " |-- LIMIT_BAL: integer (nullable = true)\n",
      " |-- SEX: integer (nullable = true)\n",
      " |-- EDUCATION: integer (nullable = true)\n",
      " |-- MARRIAGE: integer (nullable = true)\n",
      " |-- AGE: integer (nullable = true)\n",
      " |-- PAY_0: integer (nullable = true)\n",
      " |-- PAY_2: integer (nullable = true)\n",
      " |-- PAY_3: integer (nullable = true)\n",
      " |-- PAY_4: integer (nullable = true)\n",
      " |-- PAY_5: integer (nullable = true)\n",
      " |-- PAY_6: integer (nullable = true)\n",
      " |-- BILL_AMT1: integer (nullable = true)\n",
      " |-- BILL_AMT2: integer (nullable = true)\n",
      " |-- BILL_AMT3: integer (nullable = true)\n",
      " |-- BILL_AMT4: integer (nullable = true)\n",
      " |-- BILL_AMT5: integer (nullable = true)\n",
      " |-- BILL_AMT6: integer (nullable = true)\n",
      " |-- PAY_AMT1: integer (nullable = true)\n",
      " |-- PAY_AMT2: integer (nullable = true)\n",
      " |-- PAY_AMT3: integer (nullable = true)\n",
      " |-- PAY_AMT4: integer (nullable = true)\n",
      " |-- PAY_AMT5: integer (nullable = true)\n",
      " |-- PAY_AMT6: integer (nullable = true)\n",
      " |-- label: integer (nullable = true)\n",
      "\n"
     ]
    },
    {
     "data": {
      "text/plain": [
       "cardsNoID: org.apache.spark.sql.DataFrame = [LIMIT_BAL: int, SEX: int ... 22 more fields]\n"
      ]
     },
     "execution_count": 9,
     "metadata": {},
     "output_type": "execute_result"
    }
   ],
   "source": [
    "val cardsNoID = renamedCards.drop(\"ID\")\n",
    "cardsNoID.printSchema()"
   ]
  },
  {
   "cell_type": "markdown",
   "metadata": {},
   "source": [
    "For categorical data, we want to use One-hot encoding, the reason is that the models we are going to use will not work correctly with categorical non-binary features. For example, if the model internally calculate an average the result might be wrong."
   ]
  },
  {
   "cell_type": "code",
   "execution_count": 20,
   "metadata": {},
   "outputs": [
    {
     "name": "stdout",
     "output_type": "stream",
     "text": [
      "+---------+---+---------+--------+---+-----+-----+-----+-----+-----+-----+---------+---------+---------+---------+---------+---------+--------+--------+--------+--------+--------+--------+-----+-----------+-----------+-----------+-----------+-----------+-----------+--------------+-------------+--------------+--------------+-------------+--------------+---------------+-------------+----------------+\n",
      "|LIMIT_BAL|SEX|EDUCATION|MARRIAGE|AGE|PAY_0|PAY_2|PAY_3|PAY_4|PAY_5|PAY_6|BILL_AMT1|BILL_AMT2|BILL_AMT3|BILL_AMT4|BILL_AMT5|BILL_AMT6|PAY_AMT1|PAY_AMT2|PAY_AMT3|PAY_AMT4|PAY_AMT5|PAY_AMT6|label|PAY_0_INDEX|PAY_2_INDEX|PAY_3_INDEX|PAY_4_INDEX|PAY_5_INDEX|PAY_6_INDEX|  PAY_4_ONEHOT| PAY_5_ONEHOT|  PAY_0_ONEHOT|  PAY_3_ONEHOT| PAY_6_ONEHOT|  PAY_2_ONEHOT|MARRIAGE_ONEHOT|   SEX_ONEHOT|EDUCATION_ONEHOT|\n",
      "+---------+---+---------+--------+---+-----+-----+-----+-----+-----+-----+---------+---------+---------+---------+---------+---------+--------+--------+--------+--------+--------+--------+-----+-----------+-----------+-----------+-----------+-----------+-----------+--------------+-------------+--------------+--------------+-------------+--------------+---------------+-------------+----------------+\n",
      "|    20000|  2|        2|       1| 24|    2|    2|   -1|   -1|   -2|   -2|     3913|     3102|      689|        0|        0|        0|       0|     689|       0|       0|       0|       0|    1|        4.0|        2.0|        1.0|        1.0|        2.0|        2.0|(10,[1],[1.0])|(9,[2],[1.0])|(10,[4],[1.0])|(10,[1],[1.0])|(9,[2],[1.0])|(10,[2],[1.0])|  (3,[1],[1.0])|    (2,[],[])|   (6,[2],[1.0])|\n",
      "|   120000|  2|        2|       2| 26|   -1|    2|    0|    0|    0|    2|     2682|     1725|     2682|     3272|     3455|     3261|       0|    1000|    1000|    1000|       0|    2000|    1|        1.0|        2.0|        0.0|        0.0|        0.0|        3.0|(10,[0],[1.0])|(9,[0],[1.0])|(10,[1],[1.0])|(10,[0],[1.0])|(9,[3],[1.0])|(10,[2],[1.0])|  (3,[2],[1.0])|    (2,[],[])|   (6,[2],[1.0])|\n",
      "|    90000|  2|        2|       2| 34|    0|    0|    0|    0|    0|    0|    29239|    14027|    13559|    14331|    14948|    15549|    1518|    1500|    1000|    1000|    1000|    5000|    0|        0.0|        0.0|        0.0|        0.0|        0.0|        0.0|(10,[0],[1.0])|(9,[0],[1.0])|(10,[0],[1.0])|(10,[0],[1.0])|(9,[0],[1.0])|(10,[0],[1.0])|  (3,[2],[1.0])|    (2,[],[])|   (6,[2],[1.0])|\n",
      "|    50000|  2|        2|       1| 37|    0|    0|    0|    0|    0|    0|    46990|    48233|    49291|    28314|    28959|    29547|    2000|    2019|    1200|    1100|    1069|    1000|    0|        0.0|        0.0|        0.0|        0.0|        0.0|        0.0|(10,[0],[1.0])|(9,[0],[1.0])|(10,[0],[1.0])|(10,[0],[1.0])|(9,[0],[1.0])|(10,[0],[1.0])|  (3,[1],[1.0])|    (2,[],[])|   (6,[2],[1.0])|\n",
      "|    50000|  1|        2|       1| 57|   -1|    0|   -1|    0|    0|    0|     8617|     5670|    35835|    20940|    19146|    19131|    2000|   36681|   10000|    9000|     689|     679|    0|        1.0|        0.0|        1.0|        0.0|        0.0|        0.0|(10,[0],[1.0])|(9,[0],[1.0])|(10,[1],[1.0])|(10,[1],[1.0])|(9,[0],[1.0])|(10,[0],[1.0])|  (3,[1],[1.0])|(2,[1],[1.0])|   (6,[2],[1.0])|\n",
      "+---------+---+---------+--------+---+-----+-----+-----+-----+-----+-----+---------+---------+---------+---------+---------+---------+--------+--------+--------+--------+--------+--------+-----+-----------+-----------+-----------+-----------+-----------+-----------+--------------+-------------+--------------+--------------+-------------+--------------+---------------+-------------+----------------+\n",
      "only showing top 5 rows\n",
      "\n"
     ]
    },
    {
     "data": {
      "text/plain": [
       "import org.apache.spark.ml.feature.OneHotEncoderEstimator\r\n",
       "import org.apache.spark.ml.feature.StringIndexer\r\n",
       "indexer0: org.apache.spark.ml.feature.StringIndexer = strIdx_908205006369\r\n",
       "indexed0: org.apache.spark.sql.DataFrame = [LIMIT_BAL: int, SEX: int ... 23 more fields]\r\n",
       "indexer2: org.apache.spark.ml.feature.StringIndexer = strIdx_d2357087e4c3\r\n",
       "indexed2: org.apache.spark.sql.DataFrame = [LIMIT_BAL: int, SEX: int ... 24 more fields]\r\n",
       "indexer3: org.apache.spark.ml.feature.StringIndexer = strIdx_90cfaa241a48\r\n",
       "indexed3: org.apache.spark.sql.DataFrame = [LIMIT_BAL: int, SEX: int ... 25 more fields]\r\n",
       "indexer4: org.apache.spark.ml.feature.StringIndexer = strIdx_30068f4d21e2\r\n",
       "indexed4: org.apache.spark.sql.DataFrame = [LIMIT_BAL: int, SEX: int ... 26 more fields]\r\n",
       "indexer5: org.apache.spark.m..."
      ]
     },
     "execution_count": 20,
     "metadata": {},
     "output_type": "execute_result"
    }
   ],
   "source": [
    "import org.apache.spark.ml.feature.OneHotEncoderEstimator\n",
    "import org.apache.spark.ml.feature.StringIndexer\n",
    "\n",
    "val indexer0 = new StringIndexer()\n",
    "  .setInputCol(\"PAY_0\")\n",
    "  .setOutputCol(\"PAY_0_INDEX\")\n",
    "\n",
    "val indexed0 = indexer0.fit(cardsNoID).transform(cardsNoID)\n",
    "\n",
    "val indexer2 = new StringIndexer()\n",
    "  .setInputCol(\"PAY_2\")\n",
    "  .setOutputCol(\"PAY_2_INDEX\")\n",
    "\n",
    "val indexed2 = indexer2.fit(indexed0).transform(indexed0)\n",
    "val indexer3 = new StringIndexer()\n",
    "  .setInputCol(\"PAY_3\")\n",
    "  .setOutputCol(\"PAY_3_INDEX\")\n",
    "\n",
    "val indexed3 = indexer3.fit(indexed2).transform(indexed2)\n",
    "val indexer4 = new StringIndexer()\n",
    "  .setInputCol(\"PAY_4\")\n",
    "  .setOutputCol(\"PAY_4_INDEX\")\n",
    "\n",
    "val indexed4 = indexer4.fit(indexed3).transform(indexed3)\n",
    "val indexer5 = new StringIndexer()\n",
    "  .setInputCol(\"PAY_5\")\n",
    "  .setOutputCol(\"PAY_5_INDEX\")\n",
    "\n",
    "val indexed5 = indexer5.fit(indexed4).transform(indexed4)\n",
    "val indexer6 = new StringIndexer()\n",
    "  .setInputCol(\"PAY_6\")\n",
    "  .setOutputCol(\"PAY_6_INDEX\")\n",
    "\n",
    "val indexed6 = indexer6.fit(indexed5).transform(indexed5)\n",
    "\n",
    "val encoder = new OneHotEncoderEstimator().setInputCols(Array(\"SEX\",\"EDUCATION\",\"MARRIAGE\",\"PAY_0_INDEX\",\"PAY_2_INDEX\",\"PAY_3_INDEX\",\"PAY_4_INDEX\",\"PAY_5_INDEX\",\"PAY_6_INDEX\"))\n",
    "     .setOutputCols(Array(\"SEX_ONEHOT\",\"EDUCATION_ONEHOT\",\"MARRIAGE_ONEHOT\",\"PAY_0_ONEHOT\",\"PAY_2_ONEHOT\",\"PAY_3_ONEHOT\",\"PAY_4_ONEHOT\",\"PAY_5_ONEHOT\",\"PAY_6_ONEHOT\"))\n",
    "val ohCardsNoID = encoder.fit(indexed6).transform(indexed6)\n",
    "ohCardsNoID.show(5)"
   ]
  },
  {
   "cell_type": "markdown",
   "metadata": {},
   "source": [
    "As the dataset contains redundant columns we will drop the columns PAY_X and PAY_X_INDEX"
   ]
  },
  {
   "cell_type": "code",
   "execution_count": 21,
   "metadata": {},
   "outputs": [
    {
     "name": "stdout",
     "output_type": "stream",
     "text": [
      "+---------+---+---------+--------+---+---------+---------+---------+---------+---------+---------+--------+--------+--------+--------+--------+--------+-----+--------------+-------------+--------------+--------------+-------------+--------------+---------------+-------------+----------------+\n",
      "|LIMIT_BAL|SEX|EDUCATION|MARRIAGE|AGE|BILL_AMT1|BILL_AMT2|BILL_AMT3|BILL_AMT4|BILL_AMT5|BILL_AMT6|PAY_AMT1|PAY_AMT2|PAY_AMT3|PAY_AMT4|PAY_AMT5|PAY_AMT6|label|  PAY_4_ONEHOT| PAY_5_ONEHOT|  PAY_0_ONEHOT|  PAY_3_ONEHOT| PAY_6_ONEHOT|  PAY_2_ONEHOT|MARRIAGE_ONEHOT|   SEX_ONEHOT|EDUCATION_ONEHOT|\n",
      "+---------+---+---------+--------+---+---------+---------+---------+---------+---------+---------+--------+--------+--------+--------+--------+--------+-----+--------------+-------------+--------------+--------------+-------------+--------------+---------------+-------------+----------------+\n",
      "|    20000|  2|        2|       1| 24|     3913|     3102|      689|        0|        0|        0|       0|     689|       0|       0|       0|       0|    1|(10,[1],[1.0])|(9,[2],[1.0])|(10,[4],[1.0])|(10,[1],[1.0])|(9,[2],[1.0])|(10,[2],[1.0])|  (3,[1],[1.0])|    (2,[],[])|   (6,[2],[1.0])|\n",
      "|   120000|  2|        2|       2| 26|     2682|     1725|     2682|     3272|     3455|     3261|       0|    1000|    1000|    1000|       0|    2000|    1|(10,[0],[1.0])|(9,[0],[1.0])|(10,[1],[1.0])|(10,[0],[1.0])|(9,[3],[1.0])|(10,[2],[1.0])|  (3,[2],[1.0])|    (2,[],[])|   (6,[2],[1.0])|\n",
      "|    90000|  2|        2|       2| 34|    29239|    14027|    13559|    14331|    14948|    15549|    1518|    1500|    1000|    1000|    1000|    5000|    0|(10,[0],[1.0])|(9,[0],[1.0])|(10,[0],[1.0])|(10,[0],[1.0])|(9,[0],[1.0])|(10,[0],[1.0])|  (3,[2],[1.0])|    (2,[],[])|   (6,[2],[1.0])|\n",
      "|    50000|  2|        2|       1| 37|    46990|    48233|    49291|    28314|    28959|    29547|    2000|    2019|    1200|    1100|    1069|    1000|    0|(10,[0],[1.0])|(9,[0],[1.0])|(10,[0],[1.0])|(10,[0],[1.0])|(9,[0],[1.0])|(10,[0],[1.0])|  (3,[1],[1.0])|    (2,[],[])|   (6,[2],[1.0])|\n",
      "|    50000|  1|        2|       1| 57|     8617|     5670|    35835|    20940|    19146|    19131|    2000|   36681|   10000|    9000|     689|     679|    0|(10,[0],[1.0])|(9,[0],[1.0])|(10,[1],[1.0])|(10,[1],[1.0])|(9,[0],[1.0])|(10,[0],[1.0])|  (3,[1],[1.0])|(2,[1],[1.0])|   (6,[2],[1.0])|\n",
      "|    50000|  1|        1|       2| 37|    64400|    57069|    57608|    19394|    19619|    20024|    2500|    1815|     657|    1000|    1000|     800|    0|(10,[0],[1.0])|(9,[0],[1.0])|(10,[0],[1.0])|(10,[0],[1.0])|(9,[0],[1.0])|(10,[0],[1.0])|  (3,[2],[1.0])|(2,[1],[1.0])|   (6,[1],[1.0])|\n",
      "|   500000|  1|        1|       2| 29|   367965|   412023|   445007|   542653|   483003|   473944|   55000|   40000|   38000|   20239|   13750|   13770|    0|(10,[0],[1.0])|(9,[0],[1.0])|(10,[0],[1.0])|(10,[0],[1.0])|(9,[0],[1.0])|(10,[0],[1.0])|  (3,[2],[1.0])|(2,[1],[1.0])|   (6,[1],[1.0])|\n",
      "|   100000|  2|        2|       2| 23|    11876|      380|      601|      221|     -159|      567|     380|     601|       0|     581|    1687|    1542|    0|(10,[0],[1.0])|(9,[0],[1.0])|(10,[0],[1.0])|(10,[1],[1.0])|(9,[1],[1.0])|(10,[1],[1.0])|  (3,[2],[1.0])|    (2,[],[])|   (6,[2],[1.0])|\n",
      "|   140000|  2|        3|       1| 28|    11285|    14096|    12108|    12211|    11793|     3719|    3329|       0|     432|    1000|    1000|    1000|    0|(10,[0],[1.0])|(9,[0],[1.0])|(10,[0],[1.0])|(10,[3],[1.0])|(9,[0],[1.0])|(10,[0],[1.0])|  (3,[1],[1.0])|    (2,[],[])|   (6,[3],[1.0])|\n",
      "|    20000|  1|        3|       2| 35|        0|        0|        0|        0|    13007|    13912|       0|       0|       0|   13007|    1122|       0|    0|(10,[2],[1.0])|(9,[1],[1.0])|(10,[3],[1.0])|(10,[2],[1.0])|(9,[1],[1.0])|(10,[3],[1.0])|  (3,[2],[1.0])|(2,[1],[1.0])|   (6,[3],[1.0])|\n",
      "|   200000|  2|        3|       2| 34|    11073|     9787|     5535|     2513|     1828|     3731|    2306|      12|      50|     300|    3738|      66|    0|(10,[0],[1.0])|(9,[0],[1.0])|(10,[0],[1.0])|(10,[3],[1.0])|(9,[1],[1.0])|(10,[0],[1.0])|  (3,[2],[1.0])|    (2,[],[])|   (6,[3],[1.0])|\n",
      "|   260000|  2|        1|       2| 51|    12261|    21670|     9966|     8517|    22287|    13668|   21818|    9966|    8583|   22301|       0|    3640|    0|(10,[1],[1.0])|(9,[1],[1.0])|(10,[1],[1.0])|(10,[1],[1.0])|(9,[3],[1.0])|(10,[1],[1.0])|  (3,[2],[1.0])|    (2,[],[])|   (6,[1],[1.0])|\n",
      "|   630000|  2|        2|       2| 41|    12137|     6500|     6500|     6500|     6500|     2870|    1000|    6500|    6500|    6500|    2870|       0|    0|(10,[1],[1.0])|(9,[1],[1.0])|(10,[1],[1.0])|(10,[1],[1.0])|(9,[1],[1.0])|(10,[0],[1.0])|  (3,[2],[1.0])|    (2,[],[])|   (6,[2],[1.0])|\n",
      "|    70000|  1|        2|       2| 30|    65802|    67369|    65701|    66782|    36137|    36894|    3200|       0|    3000|    3000|    1500|       0|    1|(10,[0],[1.0])|(9,[0],[1.0])|(10,[2],[1.0])|(10,[3],[1.0])|(9,[3],[1.0])|(10,[2],[1.0])|  (3,[2],[1.0])|(2,[1],[1.0])|   (6,[2],[1.0])|\n",
      "|   250000|  1|        1|       2| 29|    70887|    67060|    63561|    59696|    56875|    55512|    3000|    3000|    3000|    3000|    3000|    3000|    0|(10,[0],[1.0])|(9,[0],[1.0])|(10,[0],[1.0])|(10,[0],[1.0])|(9,[0],[1.0])|(10,[0],[1.0])|  (3,[2],[1.0])|(2,[1],[1.0])|   (6,[1],[1.0])|\n",
      "|    50000|  2|        3|       3| 23|    50614|    29173|    28116|    28771|    29531|    30211|       0|    1500|    1100|    1200|    1300|    1100|    0|(10,[0],[1.0])|(9,[0],[1.0])|(10,[2],[1.0])|(10,[0],[1.0])|(9,[0],[1.0])|(10,[2],[1.0])|      (3,[],[])|    (2,[],[])|   (6,[3],[1.0])|\n",
      "|    20000|  1|        1|       2| 24|    15376|    18010|    17428|    18338|    17905|    19104|    3200|       0|    1500|       0|    1650|       0|    1|(10,[3],[1.0])|(9,[3],[1.0])|(10,[0],[1.0])|(10,[3],[1.0])|(9,[3],[1.0])|(10,[0],[1.0])|  (3,[2],[1.0])|(2,[1],[1.0])|   (6,[1],[1.0])|\n",
      "|   320000|  1|        1|       1| 49|   253286|   246536|   194663|    70074|     5856|   195599|   10358|   10000|   75940|   20000|  195599|   50000|    0|(10,[1],[1.0])|(9,[1],[1.0])|(10,[0],[1.0])|(10,[0],[1.0])|(9,[1],[1.0])|(10,[0],[1.0])|  (3,[1],[1.0])|(2,[1],[1.0])|   (6,[1],[1.0])|\n",
      "|   360000|  2|        1|       1| 49|        0|        0|        0|        0|        0|        0|       0|       0|       0|       0|       0|       0|    0|(10,[2],[1.0])|(9,[2],[1.0])|(10,[2],[1.0])|(10,[2],[1.0])|(9,[2],[1.0])|(10,[3],[1.0])|  (3,[1],[1.0])|    (2,[],[])|   (6,[1],[1.0])|\n",
      "|   180000|  2|        1|       2| 29|        0|        0|        0|        0|        0|        0|       0|       0|       0|       0|       0|       0|    0|(10,[2],[1.0])|(9,[2],[1.0])|(10,[2],[1.0])|(10,[2],[1.0])|(9,[2],[1.0])|(10,[3],[1.0])|  (3,[2],[1.0])|    (2,[],[])|   (6,[1],[1.0])|\n",
      "+---------+---+---------+--------+---+---------+---------+---------+---------+---------+---------+--------+--------+--------+--------+--------+--------+-----+--------------+-------------+--------------+--------------+-------------+--------------+---------------+-------------+----------------+\n",
      "only showing top 20 rows\n",
      "\n"
     ]
    },
    {
     "data": {
      "text/plain": [
       "ohcardsNoPAY: org.apache.spark.sql.DataFrame = [LIMIT_BAL: int, SEX: int ... 25 more fields]\n"
      ]
     },
     "execution_count": 21,
     "metadata": {},
     "output_type": "execute_result"
    }
   ],
   "source": [
    "val ohcardsNoPAY = ohCardsNoID.drop(\"PAY_0_INDEX\",\"PAY_2_INDEX\",\"PAY_3_INDEX\",\"PAY_4_INDEX\",\"PAY_5_INDEX\",\"PAY_6_INDEX\",\"PAY_0\",\"PAY_2\",\"PAY_3\",\"PAY_4\",\"PAY_5\",\"PAY_6\")\n",
    "\n",
    "ohcardsNoPAY.show()"
   ]
  },
  {
   "cell_type": "markdown",
   "metadata": {},
   "source": [
    "The next operation we want to define is scaling. It is proven that scaled features help models to train and generalise better."
   ]
  },
  {
   "cell_type": "code",
   "execution_count": 22,
   "metadata": {},
   "outputs": [
    {
     "name": "stdout",
     "output_type": "stream",
     "text": [
      "+-------------------------------------------------------------------------------------------------------------------------------------------------------------------------------------------------------------------------------------------------------------------------------------+\n",
      "|scaled_features_temp                                                                                                                                                                                                                                                                 |\n",
      "+-------------------------------------------------------------------------------------------------------------------------------------------------------------------------------------------------------------------------------------------------------------------------------------+\n",
      "|(14,[0,1,2,3,4,9],[0.15414535998894324,2.603628744963987,0.053139869207970765,0.0435834725779124,0.009935199510232218,0.029903384202815683])                                                                                                                                         |\n",
      "|[0.9248721599336596,2.820597807044319,0.03642247104926593,0.024236457187910666,0.03867373742589667,0.05086048089002836,0.05682831632873511,0.054756928361119755,0.0,0.043401138175349324,0.05679571695065346,0.06383185262622842,0.0,0.1125019744244751]                             |\n",
      "|[0.6936541199502446,3.6884740553656483,0.39707555220338797,0.19708103476801328,0.19551722809758876,0.2227633104018938,0.24586676482834513,0.2610903033078967,0.09164851210352462,0.06510170726302399,0.05679571695065346,0.06383185262622842,0.06545228384617399,0.28125493606118773]|\n",
      "|[0.38536339997235813,4.013927648486146,0.6381401620451179,0.6776794432142002,0.7107633077777304,0.4401172542543591,0.47632162447578585,0.4961370629518569,0.12074902780438027,0.08762689797603028,0.06815486034078415,0.07021503788885128,0.06996849143156,0.05625098721223755]      |\n",
      "|[0.38536339997235813,6.183618269289469,0.11702178711093383,0.0796641810176542,0.5167313126983621,0.3254946423707805,0.3149160475918849,0.32123728809462804,0.12074902780438027,1.5919971494099885,0.5679571695065346,0.5744866736360559,0.04509662357001388,0.0381944203171093]      |\n",
      "|[0.38536339997235813,4.013927648486146,0.8745738760524706,0.8018263044967384,0.8306922690645249,0.30146337603337714,0.32269601680273635,0.33623205565871267,0.15093628475547533,0.07877306578825902,0.037314786036579325,0.06383185262622842,0.06545228384617399,0.04500078976979004]|\n",
      "|[3.853633999723581,3.1460514001648177,4.997089694124958,5.788972637643198,6.416884366400448,8.435083293525844,7.944499933929969,7.958208419252542,3.320598264620457,1.736045527013973,2.1582372441248316,1.2918928653022372,0.8999689028848924,0.774576093912511]                    |\n",
      "|[0.7707267999447163,2.495144213923821,0.16128011416147733,0.005339045641394814,0.008666262562626361,0.0034352586420220866,-0.0026152539207724697,0.009520753873276572,0.02294231528283225,0.026084084043384942,0.0,0.037086306375838714,0.11041800284849553,0.0867390222812703]      |\n",
      "|[1.0790175199226029,3.037566869124652,0.1532541334045362,0.1980504930555297,0.1745941882001331,0.18980969808928372,0.19397288985955807,0.06244741385311388,0.20098675678039096,0.0,0.024535749722682295,0.06383185262622842,0.06545228384617399,0.05625098721223755]                 |\n",
      "|(14,[0,1,6,7,11,12],[0.15414535998894324,3.7969585864058146,0.2139409292294812,0.23360269468258144,0.8302609071093532,0.07343746247540722])                                                                                                                                          |\n",
      "+-------------------------------------------------------------------------------------------------------------------------------------------------------------------------------------------------------------------------------------------------------------------------------------+\n",
      "only showing top 10 rows\n",
      "\n"
     ]
    },
    {
     "data": {
      "text/plain": [
       "import org.apache.spark.ml.feature.{VectorAssembler, StandardScaler}\r\n",
       "colNum: Array[String] = Array(LIMIT_BAL, AGE, BILL_AMT1, BILL_AMT2, BILL_AMT3, BILL_AMT4, BILL_AMT5, BILL_AMT6, PAY_AMT1, PAY_AMT2, PAY_AMT3, PAY_AMT4, PAY_AMT5, PAY_AMT6)\r\n",
       "va: org.apache.spark.ml.feature.VectorAssembler = vecAssembler_cdf630f0f4d9\r\n",
       "featuredCards: org.apache.spark.sql.DataFrame = [LIMIT_BAL: int, SEX: int ... 26 more fields]\r\n",
       "scaler: org.apache.spark.ml.feature.StandardScaler = stdScal_bca1cefd3ae1\r\n",
       "scaledCards: org.apache.spark.sql.DataFrame = [LIMIT_BAL: int, SEX: int ... 27 more fields]\n"
      ]
     },
     "execution_count": 22,
     "metadata": {},
     "output_type": "execute_result"
    }
   ],
   "source": [
    "import org.apache.spark.ml.feature.{VectorAssembler, StandardScaler}\n",
    "\n",
    "// take all the columns but the ones defined in the array\n",
    "val colNum = ohcardsNoPAY.columns.filter(!Array(\"SEX\",\"MARRIAGE\",\"EDUCATION\",\"SEX_ONEHOT\", \"EDUCATION_ONEHOT\", \"MARRIAGE_ONEHOT\",\"PAY_0_ONEHOT\",\"PAY_2_ONEHOT\",\"PAY_3_ONEHOT\",\"PAY_4_ONEHOT\",\"PAY_5_ONEHOT\",\"PAY_6_ONEHOT\",\"label\").contains(_))\n",
    "\n",
    "val va = new VectorAssembler().setInputCols(colNum)\n",
    "    .setOutputCol(\"features_temp\")\n",
    "val featuredCards = va.transform(ohcardsNoPAY)\n",
    "\n",
    "val scaler = new StandardScaler().setInputCol(\"features_temp\").setOutputCol(\"scaled_features_temp\").setWithStd(true)\n",
    "val scaledCards = scaler.fit(featuredCards).transform(featuredCards)\n",
    "\n",
    "scaledCards.select(\"scaled_features_temp\").show(10, false)"
   ]
  },
  {
   "cell_type": "markdown",
   "metadata": {},
   "source": [
    "As a final preprocessing step, we want the dataset to have only 2 columns: features and label."
   ]
  },
  {
   "cell_type": "code",
   "execution_count": 23,
   "metadata": {},
   "outputs": [
    {
     "name": "stdout",
     "output_type": "stream",
     "text": [
      "+---------------------------------------------------------------------------------------------------------------------------------------------------------------------------------------------------------------------------------------------------------------------------------------------------------------------------------------------------------------------------------------------+-----+\n",
      "|features                                                                                                                                                                                                                                                                                                                                                                                     |label|\n",
      "+---------------------------------------------------------------------------------------------------------------------------------------------------------------------------------------------------------------------------------------------------------------------------------------------------------------------------------------------------------------------------------------------+-----+\n",
      "|(83,[4,9,15,23,32,42,53,62,69,70,71,72,73,78],[1.0,1.0,1.0,1.0,1.0,1.0,1.0,1.0,0.15414535998894324,2.603628744963987,0.053139869207970765,0.0435834725779124,0.009935199510232218,0.029903384202815683])                                                                                                                                                                                     |1    |\n",
      "|(83,[4,10,12,23,31,41,51,63,69,70,71,72,73,74,75,76,78,79,80,82],[1.0,1.0,1.0,1.0,1.0,1.0,1.0,1.0,0.9248721599336596,2.820597807044319,0.03642247104926593,0.024236457187910666,0.03867373742589667,0.05086048089002836,0.05682831632873511,0.054756928361119755,0.043401138175349324,0.05679571695065346,0.06383185262622842,0.1125019744244751])                                           |1    |\n",
      "|(83,[4,10,11,21,31,41,51,60,69,70,71,72,73,74,75,76,77,78,79,80,81,82],[1.0,1.0,1.0,1.0,1.0,1.0,1.0,1.0,0.6936541199502446,3.6884740553656483,0.39707555220338797,0.19708103476801328,0.19551722809758876,0.2227633104018938,0.24586676482834513,0.2610903033078967,0.09164851210352462,0.06510170726302399,0.05679571695065346,0.06383185262622842,0.06545228384617399,0.28125493606118773])|0    |\n",
      "|(83,[4,9,11,21,31,41,51,60,69,70,71,72,73,74,75,76,77,78,79,80,81,82],[1.0,1.0,1.0,1.0,1.0,1.0,1.0,1.0,0.38536339997235813,4.013927648486146,0.6381401620451179,0.6776794432142002,0.7107633077777304,0.4401172542543591,0.47632162447578585,0.4961370629518569,0.12074902780438027,0.08762689797603028,0.06815486034078415,0.07021503788885128,0.06996849143156,0.05625098721223755])       |0    |\n",
      "|(83,[1,4,9,12,21,32,41,51,60,69,70,71,72,73,74,75,76,77,78,79,80,81,82],[1.0,1.0,1.0,1.0,1.0,1.0,1.0,1.0,1.0,0.38536339997235813,6.183618269289469,0.11702178711093383,0.0796641810176542,0.5167313126983621,0.3254946423707805,0.3149160475918849,0.32123728809462804,0.12074902780438027,1.5919971494099885,0.5679571695065346,0.5744866736360559,0.04509662357001388,0.0381944203171093]) |0    |\n",
      "+---------------------------------------------------------------------------------------------------------------------------------------------------------------------------------------------------------------------------------------------------------------------------------------------------------------------------------------------------------------------------------------------+-----+\n",
      "only showing top 5 rows\n",
      "\n"
     ]
    },
    {
     "data": {
      "text/plain": [
       "va2: org.apache.spark.ml.feature.VectorAssembler = vecAssembler_c9f4fa3f0709\r\n",
       "dataset: org.apache.spark.sql.DataFrame = [features: vector, label: int]\n"
      ]
     },
     "execution_count": 23,
     "metadata": {},
     "output_type": "execute_result"
    }
   ],
   "source": [
    "val va2 = new VectorAssembler()\n",
    "              .setInputCols(Array(\"SEX_ONEHOT\",\"EDUCATION_ONEHOT\",\"MARRIAGE_ONEHOT\",\"PAY_0_ONEHOT\",\"PAY_2_ONEHOT\",\"PAY_3_ONEHOT\",\"PAY_4_ONEHOT\",\"PAY_5_ONEHOT\",\"PAY_6_ONEHOT\",\"scaled_features_temp\"))\n",
    "              .setOutputCol(\"features\")\n",
    "\n",
    "val dataset = va2.transform(scaledCards).select(\"features\", \"label\")\n",
    "\n",
    "dataset.show(5,false)"
   ]
  },
  {
   "cell_type": "markdown",
   "metadata": {},
   "source": [
    "We transformed both categorical and numverical features using the OneHotEncoderEstimator, the VectorArrassember and the StandardScaler.\n",
    "Rather then using all these steps manually we could just define the transformers and add them to a pipeline and execute it."
   ]
  },
  {
   "cell_type": "code",
   "execution_count": 24,
   "metadata": {},
   "outputs": [
    {
     "name": "stdout",
     "output_type": "stream",
     "text": [
      "+---------------------------------------------------------------------------------------------------------------------------------------------------------------------------------------------------------------------------------------------------------------------------------------------------------------------------------------------------------------------------------------------+-----+\n",
      "|features                                                                                                                                                                                                                                                                                                                                                                                     |label|\n",
      "+---------------------------------------------------------------------------------------------------------------------------------------------------------------------------------------------------------------------------------------------------------------------------------------------------------------------------------------------------------------------------------------------+-----+\n",
      "|(83,[4,9,15,23,32,42,53,62,69,70,71,72,73,78],[1.0,1.0,1.0,1.0,1.0,1.0,1.0,1.0,0.15414535998894324,2.603628744963987,0.053139869207970765,0.0435834725779124,0.009935199510232218,0.029903384202815683])                                                                                                                                                                                     |1    |\n",
      "|(83,[4,10,12,23,31,41,51,63,69,70,71,72,73,74,75,76,78,79,80,82],[1.0,1.0,1.0,1.0,1.0,1.0,1.0,1.0,0.9248721599336596,2.820597807044319,0.03642247104926593,0.024236457187910666,0.03867373742589667,0.05086048089002836,0.05682831632873511,0.054756928361119755,0.043401138175349324,0.05679571695065346,0.06383185262622842,0.1125019744244751])                                           |1    |\n",
      "|(83,[4,10,11,21,31,41,51,60,69,70,71,72,73,74,75,76,77,78,79,80,81,82],[1.0,1.0,1.0,1.0,1.0,1.0,1.0,1.0,0.6936541199502446,3.6884740553656483,0.39707555220338797,0.19708103476801328,0.19551722809758876,0.2227633104018938,0.24586676482834513,0.2610903033078967,0.09164851210352462,0.06510170726302399,0.05679571695065346,0.06383185262622842,0.06545228384617399,0.28125493606118773])|0    |\n",
      "|(83,[4,9,11,21,31,41,51,60,69,70,71,72,73,74,75,76,77,78,79,80,81,82],[1.0,1.0,1.0,1.0,1.0,1.0,1.0,1.0,0.38536339997235813,4.013927648486146,0.6381401620451179,0.6776794432142002,0.7107633077777304,0.4401172542543591,0.47632162447578585,0.4961370629518569,0.12074902780438027,0.08762689797603028,0.06815486034078415,0.07021503788885128,0.06996849143156,0.05625098721223755])       |0    |\n",
      "|(83,[1,4,9,12,21,32,41,51,60,69,70,71,72,73,74,75,76,77,78,79,80,81,82],[1.0,1.0,1.0,1.0,1.0,1.0,1.0,1.0,1.0,0.38536339997235813,6.183618269289469,0.11702178711093383,0.0796641810176542,0.5167313126983621,0.3254946423707805,0.3149160475918849,0.32123728809462804,0.12074902780438027,1.5919971494099885,0.5679571695065346,0.5744866736360559,0.04509662357001388,0.0381944203171093]) |0    |\n",
      "+---------------------------------------------------------------------------------------------------------------------------------------------------------------------------------------------------------------------------------------------------------------------------------------------------------------------------------------------------------------------------------------------+-----+\n",
      "only showing top 5 rows\n",
      "\n"
     ]
    },
    {
     "data": {
      "text/plain": [
       "import org.apache.spark.ml.{Pipeline, PipelineModel, PipelineStage}\r\n",
       "catPipeline: org.apache.spark.ml.Pipeline = pipeline_3a59070569f2\r\n",
       "numPipeline: org.apache.spark.ml.Pipeline = pipeline_4a8d770f29ab\r\n",
       "featuresPipeline: org.apache.spark.ml.Pipeline = pipeline_7b22a328c747\r\n",
       "pipeline: org.apache.spark.ml.Pipeline = pipeline_6ba43e800430\r\n",
       "newCards: org.apache.spark.sql.DataFrame = [features: vector, label: int]\n"
      ]
     },
     "execution_count": 24,
     "metadata": {},
     "output_type": "execute_result"
    }
   ],
   "source": [
    "import org.apache.spark.ml.{Pipeline, PipelineModel, PipelineStage}\n",
    "\n",
    "val catPipeline = new Pipeline().setStages(Array(encoder))\n",
    "val numPipeline = new Pipeline().setStages(Array(va,scaler))\n",
    "val featuresPipeline = new Pipeline().setStages(Array(va2))\n",
    "val pipeline = new Pipeline().setStages(Array(catPipeline, numPipeline,featuresPipeline))\n",
    "val newCards = pipeline.fit(indexed6).transform(indexed6).select(\"features\", \"label\")\n",
    "\n",
    "newCards.show(5,false)"
   ]
  },
  {
   "cell_type": "markdown",
   "metadata": {},
   "source": [
    "As it can be seen, the result is exactly the same.\n",
    "\n",
    "### 3.2 Model fit\n",
    "\n",
    "We are now ready to fit some Models. First of all, we split the dataset into 2 parts, train and test sets. We use the 80% of the dataset for training and the remaining for testing."
   ]
  },
  {
   "cell_type": "code",
   "execution_count": 25,
   "metadata": {},
   "outputs": [
    {
     "data": {
      "text/plain": [
       "trainSet: org.apache.spark.sql.Dataset[org.apache.spark.sql.Row] = [features: vector, label: int]\r\n",
       "testSet: org.apache.spark.sql.Dataset[org.apache.spark.sql.Row] = [features: vector, label: int]\n"
      ]
     },
     "execution_count": 25,
     "metadata": {},
     "output_type": "execute_result"
    }
   ],
   "source": [
    "val Array(trainSet, testSet) = dataset.randomSplit(Array(0.8,0.2))"
   ]
  },
  {
   "cell_type": "markdown",
   "metadata": {},
   "source": [
    "#### 3.2.1 Logistic Regression"
   ]
  },
  {
   "cell_type": "code",
   "execution_count": 118,
   "metadata": {},
   "outputs": [
    {
     "name": "stdout",
     "output_type": "stream",
     "text": [
      "+----------+-----+--------------------+\n",
      "|prediction|label|            features|\n",
      "+----------+-----+--------------------+\n",
      "|       0.0|    0|(83,[1,2,10,11,21...|\n",
      "|       0.0|    0|(83,[1,3,9,11,21,...|\n",
      "|       0.0|    1|(83,[1,3,9,11,21,...|\n",
      "|       0.0|    0|(83,[1,3,9,11,21,...|\n",
      "|       0.0|    0|(83,[1,3,9,11,21,...|\n",
      "+----------+-----+--------------------+\n",
      "only showing top 5 rows\n",
      "\n",
      "areaUnderROC on test data = 0.6464000150038448\n"
     ]
    },
    {
     "data": {
      "text/plain": [
       "import org.apache.spark.ml.classification.LogisticRegression\r\n",
       "import org.apache.spark.ml.evaluation.BinaryClassificationEvaluator\r\n",
       "lr: org.apache.spark.ml.classification.LogisticRegression = logreg_86d44421c3d5\r\n",
       "lrModel: org.apache.spark.ml.classification.LogisticRegressionModel = LogisticRegressionModel: uid = logreg_86d44421c3d5, numClasses = 2, numFeatures = 83\r\n",
       "predictions: org.apache.spark.sql.DataFrame = [features: vector, label: int ... 3 more fields]\r\n",
       "evaluator: org.apache.spark.ml.evaluation.BinaryClassificationEvaluator = binEval_530e2595a4dc\r\n",
       "areaUnderROC: Double = 0.6464000150038448\n"
      ]
     },
     "execution_count": 118,
     "metadata": {},
     "output_type": "execute_result"
    }
   ],
   "source": [
    "import org.apache.spark.ml.classification.LogisticRegression\n",
    "import org.apache.spark.ml.evaluation.BinaryClassificationEvaluator\n",
    "\n",
    "// train the model\n",
    "val lr = new LogisticRegression()\n",
    "val lrModel = lr.fit(trainSet)\n",
    "\n",
    "// make predictions on the test data\n",
    "val predictions = lrModel.transform(testSet)\n",
    "predictions.select(\"prediction\", \"label\", \"features\").show(5)\n",
    "\n",
    "// select (prediction, true label) and compute test error.\n",
    "val evaluator = new BinaryClassificationEvaluator().setLabelCol(\"label\").setRawPredictionCol(\"prediction\").setMetricName(\"areaUnderROC\")\n",
    "val areaUnderROC = evaluator.evaluate(predictions)\n",
    "println(s\"areaUnderROC on test data = $areaUnderROC\")"
   ]
  },
  {
   "cell_type": "markdown",
   "metadata": {},
   "source": [
    "#### 3.2.2 Decision Tree"
   ]
  },
  {
   "cell_type": "code",
   "execution_count": 122,
   "metadata": {},
   "outputs": [
    {
     "name": "stdout",
     "output_type": "stream",
     "text": [
      "+----------+-----+--------------------+\n",
      "|prediction|label|            features|\n",
      "+----------+-----+--------------------+\n",
      "|       0.0|    0|(83,[1,2,10,11,21...|\n",
      "|       0.0|    0|(83,[1,3,9,11,21,...|\n",
      "|       0.0|    1|(83,[1,3,9,11,21,...|\n",
      "|       0.0|    0|(83,[1,3,9,11,21,...|\n",
      "|       0.0|    0|(83,[1,3,9,11,21,...|\n",
      "+----------+-----+--------------------+\n",
      "only showing top 5 rows\n",
      "\n",
      "areaUnderROC on test data = 0.6383525201409784\n"
     ]
    },
    {
     "data": {
      "text/plain": [
       "import org.apache.spark.ml.classification.DecisionTreeClassifier\r\n",
       "import org.apache.spark.ml.evaluation.RegressionEvaluator\r\n",
       "import org.apache.spark.ml.tuning.ParamGridBuilder\r\n",
       "import org.apache.spark.ml.tuning.CrossValidator\r\n",
       "import org.apache.spark.mllib.tree.model.DecisionTreeModel\r\n",
       "import org.apache.spark.mllib.util.MLUtils\r\n",
       "dt: org.apache.spark.ml.classification.DecisionTreeClassifier = dtc_73f0bc4db4b1\r\n",
       "dtModel: org.apache.spark.ml.classification.DecisionTreeClassificationModel = DecisionTreeClassificationModel (uid=dtc_73f0bc4db4b1) of depth 5 with 49 nodes\r\n",
       "predictions: org.apache.spark.sql.DataFrame = [features: vector, label: int ... 3 more fields]\r\n",
       "areaUnderROC: Double = 0.6383525201409784\n"
      ]
     },
     "execution_count": 122,
     "metadata": {},
     "output_type": "execute_result"
    }
   ],
   "source": [
    "import org.apache.spark.ml.classification.DecisionTreeClassifier\n",
    "import org.apache.spark.ml.evaluation.RegressionEvaluator\n",
    "import org.apache.spark.ml.tuning.ParamGridBuilder\n",
    "import org.apache.spark.ml.tuning.CrossValidator\n",
    "import org.apache.spark.mllib.tree.model.DecisionTreeModel\n",
    "import org.apache.spark.mllib.util.MLUtils\n",
    "\n",
    "val dt = new DecisionTreeClassifier().setLabelCol(\"label\").setFeaturesCol(\"features\")\n",
    "\n",
    "// train the model\n",
    "val dtModel = dt.fit(trainSet)\n",
    "\n",
    "// make predictions on the test data\n",
    "val predictions = dtModel.transform(testSet)\n",
    "predictions.select(\"prediction\", \"label\", \"features\").show(5)\n",
    "val areaUnderROC = evaluator.evaluate(predictions)\n",
    "println(s\"areaUnderROC on test data = $areaUnderROC\")"
   ]
  },
  {
   "cell_type": "markdown",
   "metadata": {},
   "source": [
    "#### 3.2.3 Param Grid for the Decision Tree"
   ]
  },
  {
   "cell_type": "code",
   "execution_count": 124,
   "metadata": {},
   "outputs": [
    {
     "name": "stdout",
     "output_type": "stream",
     "text": [
      "+----------+-----+--------------------+\n",
      "|prediction|label|            features|\n",
      "+----------+-----+--------------------+\n",
      "|       0.0|    0|(83,[1,2,10,11,21...|\n",
      "|       0.0|    0|(83,[1,3,9,11,21,...|\n",
      "|       0.0|    1|(83,[1,3,9,11,21,...|\n",
      "|       0.0|    0|(83,[1,3,9,11,21,...|\n",
      "|       1.0|    0|(83,[1,3,9,11,21,...|\n",
      "+----------+-----+--------------------+\n",
      "only showing top 5 rows\n",
      "\n",
      "areaUnderROC on test data = 0.6212507019026189\n"
     ]
    },
    {
     "data": {
      "text/plain": [
       "paramGrid: Array[org.apache.spark.ml.param.ParamMap] =\r\n",
       "Array({\r\n",
       "\tdtc_73f0bc4db4b1-maxBins: 8,\r\n",
       "\tdtc_73f0bc4db4b1-maxDepth: 30\r\n",
       "}, {\r\n",
       "\tdtc_73f0bc4db4b1-maxBins: 16,\r\n",
       "\tdtc_73f0bc4db4b1-maxDepth: 30\r\n",
       "}, {\r\n",
       "\tdtc_73f0bc4db4b1-maxBins: 32,\r\n",
       "\tdtc_73f0bc4db4b1-maxDepth: 30\r\n",
       "}, {\r\n",
       "\tdtc_73f0bc4db4b1-maxBins: 64,\r\n",
       "\tdtc_73f0bc4db4b1-maxDepth: 30\r\n",
       "}, {\r\n",
       "\tdtc_73f0bc4db4b1-maxBins: 128,\r\n",
       "\tdtc_73f0bc4db4b1-maxDepth: 30\r\n",
       "})\r\n",
       "evaluator: org.apache.spark.ml.evaluation.BinaryClassificationEvaluator = binEval_770963dedb75\r\n",
       "cv: org.apache.spark.ml.tuning.CrossValidator = cv_f4671d5b6f35\r\n",
       "cvModel: org.apache.spark.ml.tuning.CrossValidatorModel = cv_f4671d5b6f35\r\n",
       "predictions: org.apache.spark.sql.DataFrame = [features: vector, label: int ... 3 more fields]\r\n",
       "areaUnderROC: Double = 0.6212507019026189\n"
      ]
     },
     "execution_count": 124,
     "metadata": {},
     "output_type": "execute_result"
    }
   ],
   "source": [
    "val paramGrid = new ParamGridBuilder().addGrid(dt.maxBins,Array(8, 16, 32, 64, 128)).addGrid(dt.maxDepth,Array(30)).build()\n",
    "\n",
    "// select (prediction, true label) and compute test error\n",
    "val evaluator = new BinaryClassificationEvaluator().setLabelCol(\"label\").setRawPredictionCol(\"prediction\").setMetricName(\"areaUnderROC\")\n",
    "val cv = new CrossValidator().setEstimator(dt).setEvaluator(evaluator).setEstimatorParamMaps(paramGrid).setNumFolds(3)\n",
    "val cvModel = cv.fit(trainSet)\n",
    "\n",
    "\n",
    "val predictions = cvModel.transform(testSet)\n",
    "predictions.select(\"prediction\", \"label\", \"features\").show(5)\n",
    "\n",
    "val areaUnderROC = evaluator.evaluate(predictions)\n",
    "println(s\"areaUnderROC on test data = $areaUnderROC\")"
   ]
  },
  {
   "cell_type": "markdown",
   "metadata": {},
   "source": [
    "#### 3.2.4 Random Forest"
   ]
  },
  {
   "cell_type": "code",
   "execution_count": 104,
   "metadata": {},
   "outputs": [
    {
     "name": "stdout",
     "output_type": "stream",
     "text": [
      "+-------------------+-----+--------------------+\n",
      "|         prediction|label|            features|\n",
      "+-------------------+-----+--------------------+\n",
      "|0.09361841055670166|    0|(83,[1,2,10,11,21...|\n",
      "|0.10208701021894953|    0|(83,[1,3,9,11,21,...|\n",
      "| 0.1715258223392432|    1|(83,[1,3,9,11,21,...|\n",
      "|0.14282535838057392|    0|(83,[1,3,9,11,21,...|\n",
      "| 0.1644713353749631|    0|(83,[1,3,9,11,21,...|\n",
      "+-------------------+-----+--------------------+\n",
      "only showing top 5 rows\n",
      "\n",
      "areaUnderROC on test data = 0.7731179832780879\n"
     ]
    },
    {
     "data": {
      "text/plain": [
       "import org.apache.spark.ml.regression.RandomForestRegressor\r\n",
       "rf: org.apache.spark.ml.regression.RandomForestRegressor = rfr_d9118a3f983e\r\n",
       "rfModel: org.apache.spark.ml.regression.RandomForestRegressionModel = RandomForestRegressionModel (uid=rfr_d9118a3f983e) with 20 trees\r\n",
       "predictions: org.apache.spark.sql.DataFrame = [features: vector, label: int ... 1 more field]\r\n",
       "evaluator: org.apache.spark.ml.evaluation.BinaryClassificationEvaluator = binEval_977727afb905\r\n",
       "areaUnderROC: Double = 0.7731179832780879\n"
      ]
     },
     "execution_count": 104,
     "metadata": {},
     "output_type": "execute_result"
    }
   ],
   "source": [
    "import org.apache.spark.ml.regression.RandomForestRegressor\n",
    "\n",
    "val rf = new RandomForestRegressor().setLabelCol(\"label\").setFeaturesCol(\"features\")\n",
    "\n",
    "// train the model\n",
    "val rfModel = rf.fit(trainSet)\n",
    "\n",
    "// make predictions on the test data\n",
    "val predictions = rfModel.transform(testSet)\n",
    "predictions.select(\"prediction\", \"label\", \"features\").show(5)\n",
    "\n",
    "// select (prediction, true label) and compute test error\n",
    "val evaluator = new BinaryClassificationEvaluator().setLabelCol(\"label\").setRawPredictionCol(\"prediction\").setMetricName(\"areaUnderROC\")\n",
    "val areaUnderROC = evaluator.evaluate(predictions)\n",
    "println(s\"areaUnderROC on test data = $areaUnderROC\")"
   ]
  },
  {
   "cell_type": "markdown",
   "metadata": {},
   "source": [
    "#### 3.2.5 Param Grid for the Random Forest"
   ]
  },
  {
   "cell_type": "code",
   "execution_count": 106,
   "metadata": {},
   "outputs": [
    {
     "name": "stdout",
     "output_type": "stream",
     "text": [
      "+--------------------+-----+--------------------+\n",
      "|          prediction|label|            features|\n",
      "+--------------------+-----+--------------------+\n",
      "|0.058045247581142025|    0|(83,[1,2,10,11,21...|\n",
      "| 0.09301696910423396|    0|(83,[1,3,9,11,21,...|\n",
      "| 0.19592123628425184|    1|(83,[1,3,9,11,21,...|\n",
      "| 0.12944545889114104|    0|(83,[1,3,9,11,21,...|\n",
      "|  0.1457156554910614|    0|(83,[1,3,9,11,21,...|\n",
      "+--------------------+-----+--------------------+\n",
      "only showing top 5 rows\n",
      "\n",
      "areaUnderROC on test data = 0.7757382059922101\n"
     ]
    },
    {
     "data": {
      "text/plain": [
       "import org.apache.spark.ml.tuning.ParamGridBuilder\r\n",
       "import org.apache.spark.ml.evaluation.RegressionEvaluator\r\n",
       "import org.apache.spark.ml.tuning.CrossValidator\r\n",
       "paramGrid: Array[org.apache.spark.ml.param.ParamMap] =\r\n",
       "Array({\r\n",
       "\trfr_d9118a3f983e-maxDepth: 5,\r\n",
       "\trfr_d9118a3f983e-numTrees: 1\r\n",
       "}, {\r\n",
       "\trfr_d9118a3f983e-maxDepth: 5,\r\n",
       "\trfr_d9118a3f983e-numTrees: 5\r\n",
       "}, {\r\n",
       "\trfr_d9118a3f983e-maxDepth: 5,\r\n",
       "\trfr_d9118a3f983e-numTrees: 10\r\n",
       "}, {\r\n",
       "\trfr_d9118a3f983e-maxDepth: 10,\r\n",
       "\trfr_d9118a3f983e-numTrees: 1\r\n",
       "}, {\r\n",
       "\trfr_d9118a3f983e-maxDepth: 10,\r\n",
       "\trfr_d9118a3f983e-numTrees: 5\r\n",
       "}, {\r\n",
       "\trfr_d9118a3f983e-maxDepth: 10,\r\n",
       "\trfr_d9118a3f983e-numTrees: 10\r\n",
       "}, {\r\n",
       "\trfr_d9118a3f983e-maxDepth: 15,\r\n",
       "\trfr_d9118a3f983e-numTrees: 1\r\n",
       "}, {\r\n",
       "\trfr_d9118a3f983e-maxDepth: 15,\r\n",
       "\trfr_d9118a3f983e-numTrees: 5\r\n",
       "}, {\r\n",
       "\trfr_d9118a3..."
      ]
     },
     "execution_count": 106,
     "metadata": {},
     "output_type": "execute_result"
    }
   ],
   "source": [
    "import org.apache.spark.ml.tuning.ParamGridBuilder\n",
    "import org.apache.spark.ml.evaluation.RegressionEvaluator\n",
    "import org.apache.spark.ml.tuning.CrossValidator\n",
    "\n",
    "val paramGrid = new ParamGridBuilder().addGrid(rf.numTrees,Array(1,5,10)).addGrid(rf.maxDepth,Array(5,10,15)).build()\n",
    "\n",
    "val evaluator = new BinaryClassificationEvaluator().setLabelCol(\"label\").setRawPredictionCol(\"prediction\").setMetricName(\"areaUnderROC\")\n",
    "val cv = new CrossValidator().setEstimator(rf).setEvaluator(evaluator).setEstimatorParamMaps(paramGrid).setNumFolds(3)\n",
    "val cvModel = cv.fit(trainSet)\n",
    "\n",
    "val predictions = cvModel.transform(testSet)\n",
    "predictions.select(\"prediction\", \"label\", \"features\").show(5)\n",
    "\n",
    "val areaUnderROC = evaluator.evaluate(predictions)\n",
    "println(s\"areaUnderROC on test data = $areaUnderROC\")"
   ]
  },
  {
   "cell_type": "markdown",
   "metadata": {},
   "source": [
    "### 3.3 Defend your choice of best model (e.g., what are the strength and weaknesses of each of these models?).\n",
    "\n",
    "\n",
    "🥉 **3. Decision Tree**\n",
    "\n",
    "For the decision tree model we tuned a ParamGrid to cross validate the different hyperparameters used. We tuned maxBins and maxDepth. \n",
    "The areaUnderROC is approximately 0.64 and therefore is the weakest model of the 3 we are evaluating.\n",
    "\n",
    "Generally decision trees are used because they are simple and easy to understand while at the same time fast for inference. On the other hand, they tend to overfit and it is very likely to find local optimal trees rather than global ones. For these reasons the model is performing poorly compared to other methods. \n",
    "\n",
    "🥈 **2. Logistics Regression**\n",
    "\n",
    "We manually tuned some hyperparameters like elasticNetParam, regParam, and maxIter but the default values perform the best.\n",
    "The areaUnderROC is approximately 0.65 and it is slightly better than the Decision Tree model. This is likely to happen because logistic regression models in general don't perform well when the feature space is too large or when there's a high number of categorical features.\n",
    "\n",
    "🥇 **1. Random Forest**\n",
    "\n",
    "We performed cross-validation over the Random Forest, hence tuning the hyperparameters numTree and maxDepth.\n",
    "The areaUnderROC is approximately 0.77 and therefore is the strongest model of the 3 we are evaluating. This is because random forests generally present very good predictive performances and they can provide reliable feature importance estimate. On the other hand, training might require a high computational cost and in general predictions are slower.\n"
   ]
  },
  {
   "cell_type": "markdown",
   "metadata": {},
   "source": [
    "## 4. What more would you do with this data? Anything to help you devise a better solution?\n",
    "\n",
    "As the data present not-linearity, the model trained above are not always able to generalise enough to predict the correct label with a confidence higher than 77%. We suggest to use more complex models that are able to capture the non-linearity better such as Neural Networks. As an example we could propose a neural network composed of 3 hidden layers."
   ]
  }
 ],
 "metadata": {
  "kernelspec": {
   "display_name": "spylon-kernel",
   "language": "scala",
   "name": "spylon-kernel"
  },
  "language_info": {
   "codemirror_mode": "text/x-scala",
   "file_extension": ".scala",
   "help_links": [
    {
     "text": "MetaKernel Magics",
     "url": "https://metakernel.readthedocs.io/en/latest/source/README.html"
    }
   ],
   "mimetype": "text/x-scala",
   "name": "scala",
   "pygments_lexer": "scala",
   "version": "0.4.1"
  }
 },
 "nbformat": 4,
 "nbformat_minor": 2
}
